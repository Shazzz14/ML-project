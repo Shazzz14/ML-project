{
 "cells": [
  {
   "cell_type": "code",
   "execution_count": 10,
   "id": "f9a70b19",
   "metadata": {},
   "outputs": [],
   "source": [
    "import pandas as pd\n",
    "import numpy as np\n",
    "import matplotlib.pyplot as plt\n",
    "import seaborn as sns"
   ]
  },
  {
   "cell_type": "code",
   "execution_count": 11,
   "id": "2bae95c8",
   "metadata": {},
   "outputs": [
    {
     "data": {
      "text/html": [
       "<style type=\"text/css\">\n",
       "#T_82e8a_row0_col0, #T_82e8a_row0_col1, #T_82e8a_row0_col2, #T_82e8a_row0_col3, #T_82e8a_row0_col4, #T_82e8a_row0_col5, #T_82e8a_row0_col6, #T_82e8a_row0_col7, #T_82e8a_row0_col8, #T_82e8a_row0_col9, #T_82e8a_row0_col10, #T_82e8a_row0_col11, #T_82e8a_row0_col12, #T_82e8a_row0_col13, #T_82e8a_row1_col0, #T_82e8a_row1_col1, #T_82e8a_row1_col2, #T_82e8a_row1_col3, #T_82e8a_row1_col4, #T_82e8a_row1_col5, #T_82e8a_row1_col6, #T_82e8a_row1_col7, #T_82e8a_row1_col8, #T_82e8a_row1_col9, #T_82e8a_row1_col10, #T_82e8a_row1_col11, #T_82e8a_row1_col12, #T_82e8a_row1_col13, #T_82e8a_row2_col0, #T_82e8a_row2_col1, #T_82e8a_row2_col2, #T_82e8a_row2_col3, #T_82e8a_row2_col4, #T_82e8a_row2_col5, #T_82e8a_row2_col6, #T_82e8a_row2_col7, #T_82e8a_row2_col8, #T_82e8a_row2_col9, #T_82e8a_row2_col10, #T_82e8a_row2_col11, #T_82e8a_row2_col12, #T_82e8a_row2_col13, #T_82e8a_row3_col0, #T_82e8a_row3_col1, #T_82e8a_row3_col2, #T_82e8a_row3_col3, #T_82e8a_row3_col4, #T_82e8a_row3_col5, #T_82e8a_row3_col6, #T_82e8a_row3_col7, #T_82e8a_row3_col8, #T_82e8a_row3_col9, #T_82e8a_row3_col10, #T_82e8a_row3_col11, #T_82e8a_row3_col12, #T_82e8a_row3_col13, #T_82e8a_row4_col0, #T_82e8a_row4_col1, #T_82e8a_row4_col2, #T_82e8a_row4_col3, #T_82e8a_row4_col4, #T_82e8a_row4_col5, #T_82e8a_row4_col6, #T_82e8a_row4_col7, #T_82e8a_row4_col8, #T_82e8a_row4_col9, #T_82e8a_row4_col10, #T_82e8a_row4_col11, #T_82e8a_row4_col12, #T_82e8a_row4_col13, #T_82e8a_row5_col0, #T_82e8a_row5_col1, #T_82e8a_row5_col2, #T_82e8a_row5_col3, #T_82e8a_row5_col4, #T_82e8a_row5_col5, #T_82e8a_row5_col6, #T_82e8a_row5_col7, #T_82e8a_row5_col8, #T_82e8a_row5_col9, #T_82e8a_row5_col10, #T_82e8a_row5_col11, #T_82e8a_row5_col12, #T_82e8a_row5_col13, #T_82e8a_row6_col0, #T_82e8a_row6_col1, #T_82e8a_row6_col2, #T_82e8a_row6_col3, #T_82e8a_row6_col4, #T_82e8a_row6_col5, #T_82e8a_row6_col6, #T_82e8a_row6_col7, #T_82e8a_row6_col8, #T_82e8a_row6_col9, #T_82e8a_row6_col10, #T_82e8a_row6_col11, #T_82e8a_row6_col12, #T_82e8a_row6_col13, #T_82e8a_row7_col0, #T_82e8a_row7_col1, #T_82e8a_row7_col2, #T_82e8a_row7_col3, #T_82e8a_row7_col4, #T_82e8a_row7_col5, #T_82e8a_row7_col6, #T_82e8a_row7_col7, #T_82e8a_row7_col8, #T_82e8a_row7_col9, #T_82e8a_row7_col10, #T_82e8a_row7_col11, #T_82e8a_row7_col12, #T_82e8a_row7_col13, #T_82e8a_row8_col0, #T_82e8a_row8_col1, #T_82e8a_row8_col2, #T_82e8a_row8_col3, #T_82e8a_row8_col4, #T_82e8a_row8_col5, #T_82e8a_row8_col6, #T_82e8a_row8_col7, #T_82e8a_row8_col8, #T_82e8a_row8_col9, #T_82e8a_row8_col10, #T_82e8a_row8_col11, #T_82e8a_row8_col12, #T_82e8a_row8_col13, #T_82e8a_row9_col0, #T_82e8a_row9_col1, #T_82e8a_row9_col2, #T_82e8a_row9_col3, #T_82e8a_row9_col4, #T_82e8a_row9_col5, #T_82e8a_row9_col6, #T_82e8a_row9_col7, #T_82e8a_row9_col8, #T_82e8a_row9_col9, #T_82e8a_row9_col10, #T_82e8a_row9_col11, #T_82e8a_row9_col12, #T_82e8a_row9_col13 {\n",
       "  background-color: OliveDrab;\n",
       "  color: white;\n",
       "  border-color: darkblack;\n",
       "}\n",
       "</style>\n",
       "<table id=\"T_82e8a_\">\n",
       "  <thead>\n",
       "    <tr>\n",
       "      <th class=\"blank level0\" >&nbsp;</th>\n",
       "      <th class=\"col_heading level0 col0\" >age</th>\n",
       "      <th class=\"col_heading level0 col1\" >sex</th>\n",
       "      <th class=\"col_heading level0 col2\" >cp</th>\n",
       "      <th class=\"col_heading level0 col3\" >trestbps</th>\n",
       "      <th class=\"col_heading level0 col4\" >chol</th>\n",
       "      <th class=\"col_heading level0 col5\" >fbs</th>\n",
       "      <th class=\"col_heading level0 col6\" >restecg</th>\n",
       "      <th class=\"col_heading level0 col7\" >thalach</th>\n",
       "      <th class=\"col_heading level0 col8\" >exang</th>\n",
       "      <th class=\"col_heading level0 col9\" >oldpeak</th>\n",
       "      <th class=\"col_heading level0 col10\" >slope</th>\n",
       "      <th class=\"col_heading level0 col11\" >ca</th>\n",
       "      <th class=\"col_heading level0 col12\" >thal</th>\n",
       "      <th class=\"col_heading level0 col13\" >target</th>\n",
       "    </tr>\n",
       "  </thead>\n",
       "  <tbody>\n",
       "    <tr>\n",
       "      <th id=\"T_82e8a_level0_row0\" class=\"row_heading level0 row0\" >0</th>\n",
       "      <td id=\"T_82e8a_row0_col0\" class=\"data row0 col0\" >63</td>\n",
       "      <td id=\"T_82e8a_row0_col1\" class=\"data row0 col1\" >1</td>\n",
       "      <td id=\"T_82e8a_row0_col2\" class=\"data row0 col2\" >3</td>\n",
       "      <td id=\"T_82e8a_row0_col3\" class=\"data row0 col3\" >145</td>\n",
       "      <td id=\"T_82e8a_row0_col4\" class=\"data row0 col4\" >233</td>\n",
       "      <td id=\"T_82e8a_row0_col5\" class=\"data row0 col5\" >1</td>\n",
       "      <td id=\"T_82e8a_row0_col6\" class=\"data row0 col6\" >0</td>\n",
       "      <td id=\"T_82e8a_row0_col7\" class=\"data row0 col7\" >150</td>\n",
       "      <td id=\"T_82e8a_row0_col8\" class=\"data row0 col8\" >0</td>\n",
       "      <td id=\"T_82e8a_row0_col9\" class=\"data row0 col9\" >2.300000</td>\n",
       "      <td id=\"T_82e8a_row0_col10\" class=\"data row0 col10\" >0</td>\n",
       "      <td id=\"T_82e8a_row0_col11\" class=\"data row0 col11\" >0</td>\n",
       "      <td id=\"T_82e8a_row0_col12\" class=\"data row0 col12\" >1</td>\n",
       "      <td id=\"T_82e8a_row0_col13\" class=\"data row0 col13\" >1</td>\n",
       "    </tr>\n",
       "    <tr>\n",
       "      <th id=\"T_82e8a_level0_row1\" class=\"row_heading level0 row1\" >1</th>\n",
       "      <td id=\"T_82e8a_row1_col0\" class=\"data row1 col0\" >37</td>\n",
       "      <td id=\"T_82e8a_row1_col1\" class=\"data row1 col1\" >1</td>\n",
       "      <td id=\"T_82e8a_row1_col2\" class=\"data row1 col2\" >2</td>\n",
       "      <td id=\"T_82e8a_row1_col3\" class=\"data row1 col3\" >130</td>\n",
       "      <td id=\"T_82e8a_row1_col4\" class=\"data row1 col4\" >250</td>\n",
       "      <td id=\"T_82e8a_row1_col5\" class=\"data row1 col5\" >0</td>\n",
       "      <td id=\"T_82e8a_row1_col6\" class=\"data row1 col6\" >1</td>\n",
       "      <td id=\"T_82e8a_row1_col7\" class=\"data row1 col7\" >187</td>\n",
       "      <td id=\"T_82e8a_row1_col8\" class=\"data row1 col8\" >0</td>\n",
       "      <td id=\"T_82e8a_row1_col9\" class=\"data row1 col9\" >3.500000</td>\n",
       "      <td id=\"T_82e8a_row1_col10\" class=\"data row1 col10\" >0</td>\n",
       "      <td id=\"T_82e8a_row1_col11\" class=\"data row1 col11\" >0</td>\n",
       "      <td id=\"T_82e8a_row1_col12\" class=\"data row1 col12\" >2</td>\n",
       "      <td id=\"T_82e8a_row1_col13\" class=\"data row1 col13\" >1</td>\n",
       "    </tr>\n",
       "    <tr>\n",
       "      <th id=\"T_82e8a_level0_row2\" class=\"row_heading level0 row2\" >2</th>\n",
       "      <td id=\"T_82e8a_row2_col0\" class=\"data row2 col0\" >41</td>\n",
       "      <td id=\"T_82e8a_row2_col1\" class=\"data row2 col1\" >0</td>\n",
       "      <td id=\"T_82e8a_row2_col2\" class=\"data row2 col2\" >1</td>\n",
       "      <td id=\"T_82e8a_row2_col3\" class=\"data row2 col3\" >130</td>\n",
       "      <td id=\"T_82e8a_row2_col4\" class=\"data row2 col4\" >204</td>\n",
       "      <td id=\"T_82e8a_row2_col5\" class=\"data row2 col5\" >0</td>\n",
       "      <td id=\"T_82e8a_row2_col6\" class=\"data row2 col6\" >0</td>\n",
       "      <td id=\"T_82e8a_row2_col7\" class=\"data row2 col7\" >172</td>\n",
       "      <td id=\"T_82e8a_row2_col8\" class=\"data row2 col8\" >0</td>\n",
       "      <td id=\"T_82e8a_row2_col9\" class=\"data row2 col9\" >1.400000</td>\n",
       "      <td id=\"T_82e8a_row2_col10\" class=\"data row2 col10\" >2</td>\n",
       "      <td id=\"T_82e8a_row2_col11\" class=\"data row2 col11\" >0</td>\n",
       "      <td id=\"T_82e8a_row2_col12\" class=\"data row2 col12\" >2</td>\n",
       "      <td id=\"T_82e8a_row2_col13\" class=\"data row2 col13\" >1</td>\n",
       "    </tr>\n",
       "    <tr>\n",
       "      <th id=\"T_82e8a_level0_row3\" class=\"row_heading level0 row3\" >3</th>\n",
       "      <td id=\"T_82e8a_row3_col0\" class=\"data row3 col0\" >56</td>\n",
       "      <td id=\"T_82e8a_row3_col1\" class=\"data row3 col1\" >1</td>\n",
       "      <td id=\"T_82e8a_row3_col2\" class=\"data row3 col2\" >1</td>\n",
       "      <td id=\"T_82e8a_row3_col3\" class=\"data row3 col3\" >120</td>\n",
       "      <td id=\"T_82e8a_row3_col4\" class=\"data row3 col4\" >236</td>\n",
       "      <td id=\"T_82e8a_row3_col5\" class=\"data row3 col5\" >0</td>\n",
       "      <td id=\"T_82e8a_row3_col6\" class=\"data row3 col6\" >1</td>\n",
       "      <td id=\"T_82e8a_row3_col7\" class=\"data row3 col7\" >178</td>\n",
       "      <td id=\"T_82e8a_row3_col8\" class=\"data row3 col8\" >0</td>\n",
       "      <td id=\"T_82e8a_row3_col9\" class=\"data row3 col9\" >0.800000</td>\n",
       "      <td id=\"T_82e8a_row3_col10\" class=\"data row3 col10\" >2</td>\n",
       "      <td id=\"T_82e8a_row3_col11\" class=\"data row3 col11\" >0</td>\n",
       "      <td id=\"T_82e8a_row3_col12\" class=\"data row3 col12\" >2</td>\n",
       "      <td id=\"T_82e8a_row3_col13\" class=\"data row3 col13\" >1</td>\n",
       "    </tr>\n",
       "    <tr>\n",
       "      <th id=\"T_82e8a_level0_row4\" class=\"row_heading level0 row4\" >4</th>\n",
       "      <td id=\"T_82e8a_row4_col0\" class=\"data row4 col0\" >57</td>\n",
       "      <td id=\"T_82e8a_row4_col1\" class=\"data row4 col1\" >0</td>\n",
       "      <td id=\"T_82e8a_row4_col2\" class=\"data row4 col2\" >0</td>\n",
       "      <td id=\"T_82e8a_row4_col3\" class=\"data row4 col3\" >120</td>\n",
       "      <td id=\"T_82e8a_row4_col4\" class=\"data row4 col4\" >354</td>\n",
       "      <td id=\"T_82e8a_row4_col5\" class=\"data row4 col5\" >0</td>\n",
       "      <td id=\"T_82e8a_row4_col6\" class=\"data row4 col6\" >1</td>\n",
       "      <td id=\"T_82e8a_row4_col7\" class=\"data row4 col7\" >163</td>\n",
       "      <td id=\"T_82e8a_row4_col8\" class=\"data row4 col8\" >1</td>\n",
       "      <td id=\"T_82e8a_row4_col9\" class=\"data row4 col9\" >0.600000</td>\n",
       "      <td id=\"T_82e8a_row4_col10\" class=\"data row4 col10\" >2</td>\n",
       "      <td id=\"T_82e8a_row4_col11\" class=\"data row4 col11\" >0</td>\n",
       "      <td id=\"T_82e8a_row4_col12\" class=\"data row4 col12\" >2</td>\n",
       "      <td id=\"T_82e8a_row4_col13\" class=\"data row4 col13\" >1</td>\n",
       "    </tr>\n",
       "    <tr>\n",
       "      <th id=\"T_82e8a_level0_row5\" class=\"row_heading level0 row5\" >5</th>\n",
       "      <td id=\"T_82e8a_row5_col0\" class=\"data row5 col0\" >57</td>\n",
       "      <td id=\"T_82e8a_row5_col1\" class=\"data row5 col1\" >1</td>\n",
       "      <td id=\"T_82e8a_row5_col2\" class=\"data row5 col2\" >0</td>\n",
       "      <td id=\"T_82e8a_row5_col3\" class=\"data row5 col3\" >140</td>\n",
       "      <td id=\"T_82e8a_row5_col4\" class=\"data row5 col4\" >192</td>\n",
       "      <td id=\"T_82e8a_row5_col5\" class=\"data row5 col5\" >0</td>\n",
       "      <td id=\"T_82e8a_row5_col6\" class=\"data row5 col6\" >1</td>\n",
       "      <td id=\"T_82e8a_row5_col7\" class=\"data row5 col7\" >148</td>\n",
       "      <td id=\"T_82e8a_row5_col8\" class=\"data row5 col8\" >0</td>\n",
       "      <td id=\"T_82e8a_row5_col9\" class=\"data row5 col9\" >0.400000</td>\n",
       "      <td id=\"T_82e8a_row5_col10\" class=\"data row5 col10\" >1</td>\n",
       "      <td id=\"T_82e8a_row5_col11\" class=\"data row5 col11\" >0</td>\n",
       "      <td id=\"T_82e8a_row5_col12\" class=\"data row5 col12\" >1</td>\n",
       "      <td id=\"T_82e8a_row5_col13\" class=\"data row5 col13\" >1</td>\n",
       "    </tr>\n",
       "    <tr>\n",
       "      <th id=\"T_82e8a_level0_row6\" class=\"row_heading level0 row6\" >6</th>\n",
       "      <td id=\"T_82e8a_row6_col0\" class=\"data row6 col0\" >56</td>\n",
       "      <td id=\"T_82e8a_row6_col1\" class=\"data row6 col1\" >0</td>\n",
       "      <td id=\"T_82e8a_row6_col2\" class=\"data row6 col2\" >1</td>\n",
       "      <td id=\"T_82e8a_row6_col3\" class=\"data row6 col3\" >140</td>\n",
       "      <td id=\"T_82e8a_row6_col4\" class=\"data row6 col4\" >294</td>\n",
       "      <td id=\"T_82e8a_row6_col5\" class=\"data row6 col5\" >0</td>\n",
       "      <td id=\"T_82e8a_row6_col6\" class=\"data row6 col6\" >0</td>\n",
       "      <td id=\"T_82e8a_row6_col7\" class=\"data row6 col7\" >153</td>\n",
       "      <td id=\"T_82e8a_row6_col8\" class=\"data row6 col8\" >0</td>\n",
       "      <td id=\"T_82e8a_row6_col9\" class=\"data row6 col9\" >1.300000</td>\n",
       "      <td id=\"T_82e8a_row6_col10\" class=\"data row6 col10\" >1</td>\n",
       "      <td id=\"T_82e8a_row6_col11\" class=\"data row6 col11\" >0</td>\n",
       "      <td id=\"T_82e8a_row6_col12\" class=\"data row6 col12\" >2</td>\n",
       "      <td id=\"T_82e8a_row6_col13\" class=\"data row6 col13\" >1</td>\n",
       "    </tr>\n",
       "    <tr>\n",
       "      <th id=\"T_82e8a_level0_row7\" class=\"row_heading level0 row7\" >7</th>\n",
       "      <td id=\"T_82e8a_row7_col0\" class=\"data row7 col0\" >44</td>\n",
       "      <td id=\"T_82e8a_row7_col1\" class=\"data row7 col1\" >1</td>\n",
       "      <td id=\"T_82e8a_row7_col2\" class=\"data row7 col2\" >1</td>\n",
       "      <td id=\"T_82e8a_row7_col3\" class=\"data row7 col3\" >120</td>\n",
       "      <td id=\"T_82e8a_row7_col4\" class=\"data row7 col4\" >263</td>\n",
       "      <td id=\"T_82e8a_row7_col5\" class=\"data row7 col5\" >0</td>\n",
       "      <td id=\"T_82e8a_row7_col6\" class=\"data row7 col6\" >1</td>\n",
       "      <td id=\"T_82e8a_row7_col7\" class=\"data row7 col7\" >173</td>\n",
       "      <td id=\"T_82e8a_row7_col8\" class=\"data row7 col8\" >0</td>\n",
       "      <td id=\"T_82e8a_row7_col9\" class=\"data row7 col9\" >0.000000</td>\n",
       "      <td id=\"T_82e8a_row7_col10\" class=\"data row7 col10\" >2</td>\n",
       "      <td id=\"T_82e8a_row7_col11\" class=\"data row7 col11\" >0</td>\n",
       "      <td id=\"T_82e8a_row7_col12\" class=\"data row7 col12\" >3</td>\n",
       "      <td id=\"T_82e8a_row7_col13\" class=\"data row7 col13\" >1</td>\n",
       "    </tr>\n",
       "    <tr>\n",
       "      <th id=\"T_82e8a_level0_row8\" class=\"row_heading level0 row8\" >8</th>\n",
       "      <td id=\"T_82e8a_row8_col0\" class=\"data row8 col0\" >52</td>\n",
       "      <td id=\"T_82e8a_row8_col1\" class=\"data row8 col1\" >1</td>\n",
       "      <td id=\"T_82e8a_row8_col2\" class=\"data row8 col2\" >2</td>\n",
       "      <td id=\"T_82e8a_row8_col3\" class=\"data row8 col3\" >172</td>\n",
       "      <td id=\"T_82e8a_row8_col4\" class=\"data row8 col4\" >199</td>\n",
       "      <td id=\"T_82e8a_row8_col5\" class=\"data row8 col5\" >1</td>\n",
       "      <td id=\"T_82e8a_row8_col6\" class=\"data row8 col6\" >1</td>\n",
       "      <td id=\"T_82e8a_row8_col7\" class=\"data row8 col7\" >162</td>\n",
       "      <td id=\"T_82e8a_row8_col8\" class=\"data row8 col8\" >0</td>\n",
       "      <td id=\"T_82e8a_row8_col9\" class=\"data row8 col9\" >0.500000</td>\n",
       "      <td id=\"T_82e8a_row8_col10\" class=\"data row8 col10\" >2</td>\n",
       "      <td id=\"T_82e8a_row8_col11\" class=\"data row8 col11\" >0</td>\n",
       "      <td id=\"T_82e8a_row8_col12\" class=\"data row8 col12\" >3</td>\n",
       "      <td id=\"T_82e8a_row8_col13\" class=\"data row8 col13\" >1</td>\n",
       "    </tr>\n",
       "    <tr>\n",
       "      <th id=\"T_82e8a_level0_row9\" class=\"row_heading level0 row9\" >9</th>\n",
       "      <td id=\"T_82e8a_row9_col0\" class=\"data row9 col0\" >57</td>\n",
       "      <td id=\"T_82e8a_row9_col1\" class=\"data row9 col1\" >1</td>\n",
       "      <td id=\"T_82e8a_row9_col2\" class=\"data row9 col2\" >2</td>\n",
       "      <td id=\"T_82e8a_row9_col3\" class=\"data row9 col3\" >150</td>\n",
       "      <td id=\"T_82e8a_row9_col4\" class=\"data row9 col4\" >168</td>\n",
       "      <td id=\"T_82e8a_row9_col5\" class=\"data row9 col5\" >0</td>\n",
       "      <td id=\"T_82e8a_row9_col6\" class=\"data row9 col6\" >1</td>\n",
       "      <td id=\"T_82e8a_row9_col7\" class=\"data row9 col7\" >174</td>\n",
       "      <td id=\"T_82e8a_row9_col8\" class=\"data row9 col8\" >0</td>\n",
       "      <td id=\"T_82e8a_row9_col9\" class=\"data row9 col9\" >1.600000</td>\n",
       "      <td id=\"T_82e8a_row9_col10\" class=\"data row9 col10\" >2</td>\n",
       "      <td id=\"T_82e8a_row9_col11\" class=\"data row9 col11\" >0</td>\n",
       "      <td id=\"T_82e8a_row9_col12\" class=\"data row9 col12\" >2</td>\n",
       "      <td id=\"T_82e8a_row9_col13\" class=\"data row9 col13\" >1</td>\n",
       "    </tr>\n",
       "  </tbody>\n",
       "</table>\n"
      ],
      "text/plain": [
       "<pandas.io.formats.style.Styler at 0x298c78f5850>"
      ]
     },
     "execution_count": 11,
     "metadata": {},
     "output_type": "execute_result"
    }
   ],
   "source": [
    "dataframe = pd.read_csv(\"heart.csv\")\n",
    "dataframe.head(10).style.set_properties(\n",
    "    **{\n",
    "        'background-color': 'OliveDrab',\n",
    "        'color': 'white',\n",
    "        'border-color': 'darkblack'\n",
    "    })"
   ]
  },
  {
   "cell_type": "code",
   "execution_count": 12,
   "id": "8d8b7cbd",
   "metadata": {},
   "outputs": [
    {
     "name": "stdout",
     "output_type": "stream",
     "text": [
      "Shape of Heart dataset is : (303, 14)\n",
      "Size of Heart dataset is  : 4242\n"
     ]
    }
   ],
   "source": [
    "print('Shape of Heart dataset is :',dataframe.shape)\n",
    "print('Size of Heart dataset is  :',dataframe.size)"
   ]
  },
  {
   "cell_type": "code",
   "execution_count": 13,
   "id": "adb12639",
   "metadata": {},
   "outputs": [
    {
     "data": {
      "text/plain": [
       "Index(['age', 'sex', 'cp', 'trestbps', 'chol', 'fbs', 'restecg', 'thalach',\n",
       "       'exang', 'oldpeak', 'slope', 'ca', 'thal', 'target'],\n",
       "      dtype='object')"
      ]
     },
     "execution_count": 13,
     "metadata": {},
     "output_type": "execute_result"
    }
   ],
   "source": [
    "dataframe.columns"
   ]
  },
  {
   "cell_type": "code",
   "execution_count": 14,
   "id": "57ce5214",
   "metadata": {},
   "outputs": [
    {
     "name": "stdout",
     "output_type": "stream",
     "text": [
      "<class 'pandas.core.frame.DataFrame'>\n",
      "Int64Index: 302 entries, 0 to 302\n",
      "Data columns (total 14 columns):\n",
      " #   Column    Non-Null Count  Dtype  \n",
      "---  ------    --------------  -----  \n",
      " 0   age       302 non-null    int64  \n",
      " 1   sex       302 non-null    int64  \n",
      " 2   cp        302 non-null    int64  \n",
      " 3   trestbps  302 non-null    int64  \n",
      " 4   chol      302 non-null    int64  \n",
      " 5   fbs       302 non-null    int64  \n",
      " 6   restecg   302 non-null    int64  \n",
      " 7   thalach   302 non-null    int64  \n",
      " 8   exang     302 non-null    int64  \n",
      " 9   oldpeak   302 non-null    float64\n",
      " 10  slope     302 non-null    int64  \n",
      " 11  ca        302 non-null    int64  \n",
      " 12  thal      302 non-null    int64  \n",
      " 13  target    302 non-null    int64  \n",
      "dtypes: float64(1), int64(13)\n",
      "memory usage: 35.4 KB\n"
     ]
    }
   ],
   "source": [
    "# Drop if there are duplicates rows.\n",
    "dataframe = dataframe.drop_duplicates()\n",
    "dataframe.info()"
   ]
  },
  {
   "cell_type": "code",
   "execution_count": 15,
   "id": "fed831f1",
   "metadata": {},
   "outputs": [
    {
     "data": {
      "text/html": [
       "<div>\n",
       "<style scoped>\n",
       "    .dataframe tbody tr th:only-of-type {\n",
       "        vertical-align: middle;\n",
       "    }\n",
       "\n",
       "    .dataframe tbody tr th {\n",
       "        vertical-align: top;\n",
       "    }\n",
       "\n",
       "    .dataframe thead th {\n",
       "        text-align: right;\n",
       "    }\n",
       "</style>\n",
       "<table border=\"1\" class=\"dataframe\">\n",
       "  <thead>\n",
       "    <tr style=\"text-align: right;\">\n",
       "      <th></th>\n",
       "      <th>age</th>\n",
       "      <th>sex</th>\n",
       "      <th>cp</th>\n",
       "      <th>trestbps</th>\n",
       "      <th>chol</th>\n",
       "      <th>fbs</th>\n",
       "      <th>restecg</th>\n",
       "      <th>thalach</th>\n",
       "      <th>exang</th>\n",
       "      <th>oldpeak</th>\n",
       "      <th>slope</th>\n",
       "      <th>ca</th>\n",
       "      <th>thal</th>\n",
       "      <th>target</th>\n",
       "    </tr>\n",
       "  </thead>\n",
       "  <tbody>\n",
       "    <tr>\n",
       "      <th>count</th>\n",
       "      <td>302.00000</td>\n",
       "      <td>302.000000</td>\n",
       "      <td>302.000000</td>\n",
       "      <td>302.000000</td>\n",
       "      <td>302.000000</td>\n",
       "      <td>302.000000</td>\n",
       "      <td>302.000000</td>\n",
       "      <td>302.000000</td>\n",
       "      <td>302.000000</td>\n",
       "      <td>302.000000</td>\n",
       "      <td>302.000000</td>\n",
       "      <td>302.000000</td>\n",
       "      <td>302.000000</td>\n",
       "      <td>302.000000</td>\n",
       "    </tr>\n",
       "    <tr>\n",
       "      <th>mean</th>\n",
       "      <td>54.42053</td>\n",
       "      <td>0.682119</td>\n",
       "      <td>0.963576</td>\n",
       "      <td>131.602649</td>\n",
       "      <td>246.500000</td>\n",
       "      <td>0.149007</td>\n",
       "      <td>0.526490</td>\n",
       "      <td>149.569536</td>\n",
       "      <td>0.327815</td>\n",
       "      <td>1.043046</td>\n",
       "      <td>1.397351</td>\n",
       "      <td>0.718543</td>\n",
       "      <td>2.314570</td>\n",
       "      <td>0.543046</td>\n",
       "    </tr>\n",
       "    <tr>\n",
       "      <th>std</th>\n",
       "      <td>9.04797</td>\n",
       "      <td>0.466426</td>\n",
       "      <td>1.032044</td>\n",
       "      <td>17.563394</td>\n",
       "      <td>51.753489</td>\n",
       "      <td>0.356686</td>\n",
       "      <td>0.526027</td>\n",
       "      <td>22.903527</td>\n",
       "      <td>0.470196</td>\n",
       "      <td>1.161452</td>\n",
       "      <td>0.616274</td>\n",
       "      <td>1.006748</td>\n",
       "      <td>0.613026</td>\n",
       "      <td>0.498970</td>\n",
       "    </tr>\n",
       "    <tr>\n",
       "      <th>min</th>\n",
       "      <td>29.00000</td>\n",
       "      <td>0.000000</td>\n",
       "      <td>0.000000</td>\n",
       "      <td>94.000000</td>\n",
       "      <td>126.000000</td>\n",
       "      <td>0.000000</td>\n",
       "      <td>0.000000</td>\n",
       "      <td>71.000000</td>\n",
       "      <td>0.000000</td>\n",
       "      <td>0.000000</td>\n",
       "      <td>0.000000</td>\n",
       "      <td>0.000000</td>\n",
       "      <td>0.000000</td>\n",
       "      <td>0.000000</td>\n",
       "    </tr>\n",
       "    <tr>\n",
       "      <th>25%</th>\n",
       "      <td>48.00000</td>\n",
       "      <td>0.000000</td>\n",
       "      <td>0.000000</td>\n",
       "      <td>120.000000</td>\n",
       "      <td>211.000000</td>\n",
       "      <td>0.000000</td>\n",
       "      <td>0.000000</td>\n",
       "      <td>133.250000</td>\n",
       "      <td>0.000000</td>\n",
       "      <td>0.000000</td>\n",
       "      <td>1.000000</td>\n",
       "      <td>0.000000</td>\n",
       "      <td>2.000000</td>\n",
       "      <td>0.000000</td>\n",
       "    </tr>\n",
       "    <tr>\n",
       "      <th>50%</th>\n",
       "      <td>55.50000</td>\n",
       "      <td>1.000000</td>\n",
       "      <td>1.000000</td>\n",
       "      <td>130.000000</td>\n",
       "      <td>240.500000</td>\n",
       "      <td>0.000000</td>\n",
       "      <td>1.000000</td>\n",
       "      <td>152.500000</td>\n",
       "      <td>0.000000</td>\n",
       "      <td>0.800000</td>\n",
       "      <td>1.000000</td>\n",
       "      <td>0.000000</td>\n",
       "      <td>2.000000</td>\n",
       "      <td>1.000000</td>\n",
       "    </tr>\n",
       "    <tr>\n",
       "      <th>75%</th>\n",
       "      <td>61.00000</td>\n",
       "      <td>1.000000</td>\n",
       "      <td>2.000000</td>\n",
       "      <td>140.000000</td>\n",
       "      <td>274.750000</td>\n",
       "      <td>0.000000</td>\n",
       "      <td>1.000000</td>\n",
       "      <td>166.000000</td>\n",
       "      <td>1.000000</td>\n",
       "      <td>1.600000</td>\n",
       "      <td>2.000000</td>\n",
       "      <td>1.000000</td>\n",
       "      <td>3.000000</td>\n",
       "      <td>1.000000</td>\n",
       "    </tr>\n",
       "    <tr>\n",
       "      <th>max</th>\n",
       "      <td>77.00000</td>\n",
       "      <td>1.000000</td>\n",
       "      <td>3.000000</td>\n",
       "      <td>200.000000</td>\n",
       "      <td>564.000000</td>\n",
       "      <td>1.000000</td>\n",
       "      <td>2.000000</td>\n",
       "      <td>202.000000</td>\n",
       "      <td>1.000000</td>\n",
       "      <td>6.200000</td>\n",
       "      <td>2.000000</td>\n",
       "      <td>4.000000</td>\n",
       "      <td>3.000000</td>\n",
       "      <td>1.000000</td>\n",
       "    </tr>\n",
       "  </tbody>\n",
       "</table>\n",
       "</div>"
      ],
      "text/plain": [
       "             age         sex          cp    trestbps        chol         fbs  \\\n",
       "count  302.00000  302.000000  302.000000  302.000000  302.000000  302.000000   \n",
       "mean    54.42053    0.682119    0.963576  131.602649  246.500000    0.149007   \n",
       "std      9.04797    0.466426    1.032044   17.563394   51.753489    0.356686   \n",
       "min     29.00000    0.000000    0.000000   94.000000  126.000000    0.000000   \n",
       "25%     48.00000    0.000000    0.000000  120.000000  211.000000    0.000000   \n",
       "50%     55.50000    1.000000    1.000000  130.000000  240.500000    0.000000   \n",
       "75%     61.00000    1.000000    2.000000  140.000000  274.750000    0.000000   \n",
       "max     77.00000    1.000000    3.000000  200.000000  564.000000    1.000000   \n",
       "\n",
       "          restecg     thalach       exang     oldpeak       slope          ca  \\\n",
       "count  302.000000  302.000000  302.000000  302.000000  302.000000  302.000000   \n",
       "mean     0.526490  149.569536    0.327815    1.043046    1.397351    0.718543   \n",
       "std      0.526027   22.903527    0.470196    1.161452    0.616274    1.006748   \n",
       "min      0.000000   71.000000    0.000000    0.000000    0.000000    0.000000   \n",
       "25%      0.000000  133.250000    0.000000    0.000000    1.000000    0.000000   \n",
       "50%      1.000000  152.500000    0.000000    0.800000    1.000000    0.000000   \n",
       "75%      1.000000  166.000000    1.000000    1.600000    2.000000    1.000000   \n",
       "max      2.000000  202.000000    1.000000    6.200000    2.000000    4.000000   \n",
       "\n",
       "             thal      target  \n",
       "count  302.000000  302.000000  \n",
       "mean     2.314570    0.543046  \n",
       "std      0.613026    0.498970  \n",
       "min      0.000000    0.000000  \n",
       "25%      2.000000    0.000000  \n",
       "50%      2.000000    1.000000  \n",
       "75%      3.000000    1.000000  \n",
       "max      3.000000    1.000000  "
      ]
     },
     "execution_count": 15,
     "metadata": {},
     "output_type": "execute_result"
    }
   ],
   "source": [
    "dataframe.describe()"
   ]
  },
  {
   "cell_type": "code",
   "execution_count": 18,
   "id": "ac5891cf",
   "metadata": {},
   "outputs": [
    {
     "data": {
      "text/plain": [
       "<AxesSubplot:>"
      ]
     },
     "execution_count": 18,
     "metadata": {},
     "output_type": "execute_result"
    },
    {
     "data": {
      "image/png": "[encoded data removed]",
      "text/plain": [
       "<Figure size 864x864 with 2 Axes>"
      ]
     },
     "metadata": {
      "needs_background": "light"
     },
     "output_type": "display_data"
    }
   ],
   "source": [
    "plt.figure(figsize=(12,12))\n",
    "corrmat=dataframe.corr()\n",
    "sns.heatmap(corrmat, annot=True)"
   ]
  },
  {
   "cell_type": "code",
   "execution_count": 22,
   "id": "1a3fd6cf",
   "metadata": {},
   "outputs": [
    {
     "name": "stdout",
     "output_type": "stream",
     "text": [
      "cp         143\n",
      "oldpeak     98\n",
      "slope       21\n",
      "fbs        257\n",
      "restecg    147\n",
      "exang      203\n",
      "dtype: int64\n"
     ]
    }
   ],
   "source": [
    "# show how many columns has 0 values and sum it\n",
    "\n",
    "featureList = ['cp', 'oldpeak','slope','fbs','restecg','exang']\n",
    "print(dataframe[featureList].isin({0}).sum())"
   ]
  },
  {
   "cell_type": "code",
   "execution_count": null,
   "id": "a8ddbce6",
   "metadata": {},
   "outputs": [],
   "source": [
    "dataframe['cp']=dataframe['cp'].replace(0,dataframe['cp'].mean())#normal distribution\n",
    "dataframe['oldpeak']=dataframe['oldpeak'].replace(0,dataframe['oldpeak'].mean())#normal distribution\n",
    "dataframe['slope']=dataframe['slope'].replace(0,dataframe['slope'].median())#skewed distribution\n",
    "dataframe['fbs']=dataframe['fbs'].replace(0,dataframe['fbs'].mean())#normal distribution\n",
    "dataframe['restecg']=dataframe['restecg'].replace(0,dataframe['restecg'].median())#skewed distribution\n",
    "dataframe['exang']=dataframe['exang'].replace(0,dataframe['exang'].mean())#normal distribution"
   ]
  },
  {
   "cell_type": "code",
   "execution_count": 35,
   "id": "300781e5",
   "metadata": {},
   "outputs": [
    {
     "name": "stdout",
     "output_type": "stream",
     "text": [
      "cp         0\n",
      "oldpeak    0\n",
      "slope      0\n",
      "fbs        0\n",
      "restecg    0\n",
      "exang      0\n",
      "dtype: int64\n"
     ]
    }
   ],
   "source": [
    "featureList = ['cp', 'oldpeak','slope','fbs','restecg','exang']\n",
    "print(dataframe[featureList].isin({0}).sum())"
   ]
  },
  {
   "cell_type": "code",
   "execution_count": 36,
   "id": "ddc7a92d",
   "metadata": {},
   "outputs": [
    {
     "data": {
      "text/plain": [
       "array([[<AxesSubplot:title={'center':'age'}>,\n",
       "        <AxesSubplot:title={'center':'sex'}>,\n",
       "        <AxesSubplot:title={'center':'cp'}>,\n",
       "        <AxesSubplot:title={'center':'trestbps'}>],\n",
       "       [<AxesSubplot:title={'center':'chol'}>,\n",
       "        <AxesSubplot:title={'center':'fbs'}>,\n",
       "        <AxesSubplot:title={'center':'restecg'}>,\n",
       "        <AxesSubplot:title={'center':'thalach'}>],\n",
       "       [<AxesSubplot:title={'center':'exang'}>,\n",
       "        <AxesSubplot:title={'center':'oldpeak'}>,\n",
       "        <AxesSubplot:title={'center':'slope'}>,\n",
       "        <AxesSubplot:title={'center':'ca'}>],\n",
       "       [<AxesSubplot:title={'center':'thal'}>,\n",
       "        <AxesSubplot:title={'center':'target'}>, <AxesSubplot:>,\n",
       "        <AxesSubplot:>]], dtype=object)"
      ]
     },
     "execution_count": 36,
     "metadata": {},
     "output_type": "execute_result"
    },
    {
     "data": {
      "image/png": "[encoded data removed]",
      "text/plain": [
       "<Figure size 1440x1440 with 16 Axes>"
      ]
     },
     "metadata": {
      "needs_background": "light"
     },
     "output_type": "display_data"
    }
   ],
   "source": [
    "dataframe.hist(figsize = (20,20))"
   ]
  },
  {
   "cell_type": "code",
   "execution_count": 37,
   "id": "d825f885",
   "metadata": {},
   "outputs": [
    {
     "name": "stderr",
     "output_type": "stream",
     "text": [
      "C:\\ProgramData\\Anaconda3\\lib\\site-packages\\sklearn\\preprocessing\\_data.py:2612: UserWarning: n_quantiles (1000) is greater than the total number of samples (302). n_quantiles is set to n_samples.\n",
      "  warnings.warn(\"n_quantiles (%s) is greater than the total number \"\n"
     ]
    },
    {
     "data": {
      "text/html": [
       "<div>\n",
       "<style scoped>\n",
       "    .dataframe tbody tr th:only-of-type {\n",
       "        vertical-align: middle;\n",
       "    }\n",
       "\n",
       "    .dataframe tbody tr th {\n",
       "        vertical-align: top;\n",
       "    }\n",
       "\n",
       "    .dataframe thead th {\n",
       "        text-align: right;\n",
       "    }\n",
       "</style>\n",
       "<table border=\"1\" class=\"dataframe\">\n",
       "  <thead>\n",
       "    <tr style=\"text-align: right;\">\n",
       "      <th></th>\n",
       "      <th>age</th>\n",
       "      <th>sex</th>\n",
       "      <th>cp</th>\n",
       "      <th>trestbps</th>\n",
       "      <th>chol</th>\n",
       "      <th>fbs</th>\n",
       "      <th>restecg</th>\n",
       "      <th>thalach</th>\n",
       "      <th>exang</th>\n",
       "      <th>oldpeak</th>\n",
       "      <th>slope</th>\n",
       "      <th>ca</th>\n",
       "      <th>thal</th>\n",
       "      <th>target</th>\n",
       "    </tr>\n",
       "  </thead>\n",
       "  <tbody>\n",
       "    <tr>\n",
       "      <th>0</th>\n",
       "      <td>0.817276</td>\n",
       "      <td>1.0</td>\n",
       "      <td>1.000000</td>\n",
       "      <td>0.810631</td>\n",
       "      <td>0.426910</td>\n",
       "      <td>1.0</td>\n",
       "      <td>0.0</td>\n",
       "      <td>0.448505</td>\n",
       "      <td>0.0</td>\n",
       "      <td>0.855482</td>\n",
       "      <td>0.0</td>\n",
       "      <td>0.0</td>\n",
       "      <td>0.034884</td>\n",
       "      <td>1.0</td>\n",
       "    </tr>\n",
       "    <tr>\n",
       "      <th>1</th>\n",
       "      <td>0.024917</td>\n",
       "      <td>1.0</td>\n",
       "      <td>0.782392</td>\n",
       "      <td>0.506645</td>\n",
       "      <td>0.578073</td>\n",
       "      <td>0.0</td>\n",
       "      <td>0.0</td>\n",
       "      <td>0.980066</td>\n",
       "      <td>0.0</td>\n",
       "      <td>0.956811</td>\n",
       "      <td>0.0</td>\n",
       "      <td>0.0</td>\n",
       "      <td>0.338870</td>\n",
       "      <td>1.0</td>\n",
       "    </tr>\n",
       "    <tr>\n",
       "      <th>2</th>\n",
       "      <td>0.074751</td>\n",
       "      <td>0.0</td>\n",
       "      <td>0.556478</td>\n",
       "      <td>0.506645</td>\n",
       "      <td>0.194352</td>\n",
       "      <td>0.0</td>\n",
       "      <td>0.0</td>\n",
       "      <td>0.838870</td>\n",
       "      <td>0.0</td>\n",
       "      <td>0.681063</td>\n",
       "      <td>1.0</td>\n",
       "      <td>0.0</td>\n",
       "      <td>0.338870</td>\n",
       "      <td>1.0</td>\n",
       "    </tr>\n",
       "    <tr>\n",
       "      <th>3</th>\n",
       "      <td>0.516611</td>\n",
       "      <td>1.0</td>\n",
       "      <td>0.556478</td>\n",
       "      <td>0.259136</td>\n",
       "      <td>0.465116</td>\n",
       "      <td>0.0</td>\n",
       "      <td>0.0</td>\n",
       "      <td>0.910299</td>\n",
       "      <td>0.0</td>\n",
       "      <td>0.189369</td>\n",
       "      <td>1.0</td>\n",
       "      <td>0.0</td>\n",
       "      <td>0.338870</td>\n",
       "      <td>1.0</td>\n",
       "    </tr>\n",
       "    <tr>\n",
       "      <th>4</th>\n",
       "      <td>0.564784</td>\n",
       "      <td>0.0</td>\n",
       "      <td>0.000000</td>\n",
       "      <td>0.259136</td>\n",
       "      <td>0.980066</td>\n",
       "      <td>0.0</td>\n",
       "      <td>0.0</td>\n",
       "      <td>0.705980</td>\n",
       "      <td>1.0</td>\n",
       "      <td>0.141196</td>\n",
       "      <td>1.0</td>\n",
       "      <td>0.0</td>\n",
       "      <td>0.338870</td>\n",
       "      <td>1.0</td>\n",
       "    </tr>\n",
       "  </tbody>\n",
       "</table>\n",
       "</div>"
      ],
      "text/plain": [
       "        age  sex        cp  trestbps      chol  fbs  restecg   thalach  exang  \\\n",
       "0  0.817276  1.0  1.000000  0.810631  0.426910  1.0      0.0  0.448505    0.0   \n",
       "1  0.024917  1.0  0.782392  0.506645  0.578073  0.0      0.0  0.980066    0.0   \n",
       "2  0.074751  0.0  0.556478  0.506645  0.194352  0.0      0.0  0.838870    0.0   \n",
       "3  0.516611  1.0  0.556478  0.259136  0.465116  0.0      0.0  0.910299    0.0   \n",
       "4  0.564784  0.0  0.000000  0.259136  0.980066  0.0      0.0  0.705980    1.0   \n",
       "\n",
       "    oldpeak  slope   ca      thal  target  \n",
       "0  0.855482    0.0  0.0  0.034884     1.0  \n",
       "1  0.956811    0.0  0.0  0.338870     1.0  \n",
       "2  0.681063    1.0  0.0  0.338870     1.0  \n",
       "3  0.189369    1.0  0.0  0.338870     1.0  \n",
       "4  0.141196    1.0  0.0  0.338870     1.0  "
      ]
     },
     "execution_count": 37,
     "metadata": {},
     "output_type": "execute_result"
    }
   ],
   "source": [
    "# Feature Selection\n",
    "df_selected=dataframe.copy(deep=True)\n",
    "\n",
    "# Handling Outliers\n",
    "\n",
    "# Quantile Transformer \n",
    "from sklearn.preprocessing import QuantileTransformer\n",
    "x=df_selected\n",
    "quantile  = QuantileTransformer()\n",
    "X = quantile.fit_transform(x)\n",
    "df_new=quantile.transform(X)\n",
    "df_new=pd.DataFrame(X)\n",
    "df_new.columns =['age', 'sex', 'cp','trestbps','chol','fbs','restecg','thalach','exang','oldpeak','slope','ca','thal','target']\n",
    "df_new.head()\n"
   ]
  },
  {
   "cell_type": "code",
   "execution_count": 42,
   "id": "ce1b04cf",
   "metadata": {},
   "outputs": [
    {
     "data": {
      "text/html": [
       "<div>\n",
       "<style scoped>\n",
       "    .dataframe tbody tr th:only-of-type {\n",
       "        vertical-align: middle;\n",
       "    }\n",
       "\n",
       "    .dataframe tbody tr th {\n",
       "        vertical-align: top;\n",
       "    }\n",
       "\n",
       "    .dataframe thead th {\n",
       "        text-align: right;\n",
       "    }\n",
       "</style>\n",
       "<table border=\"1\" class=\"dataframe\">\n",
       "  <thead>\n",
       "    <tr style=\"text-align: right;\">\n",
       "      <th></th>\n",
       "      <th>age</th>\n",
       "      <th>sex</th>\n",
       "      <th>cp</th>\n",
       "      <th>trestbps</th>\n",
       "      <th>chol</th>\n",
       "      <th>fbs</th>\n",
       "      <th>thalach</th>\n",
       "      <th>exang</th>\n",
       "      <th>oldpeak</th>\n",
       "      <th>slope</th>\n",
       "      <th>ca</th>\n",
       "      <th>thal</th>\n",
       "      <th>target</th>\n",
       "    </tr>\n",
       "  </thead>\n",
       "  <tbody>\n",
       "    <tr>\n",
       "      <th>0</th>\n",
       "      <td>0.817276</td>\n",
       "      <td>1.0</td>\n",
       "      <td>1.000000</td>\n",
       "      <td>0.810631</td>\n",
       "      <td>0.426910</td>\n",
       "      <td>1.0</td>\n",
       "      <td>0.448505</td>\n",
       "      <td>0.0</td>\n",
       "      <td>0.855482</td>\n",
       "      <td>0.0</td>\n",
       "      <td>0.0</td>\n",
       "      <td>0.034884</td>\n",
       "      <td>1.0</td>\n",
       "    </tr>\n",
       "    <tr>\n",
       "      <th>1</th>\n",
       "      <td>0.024917</td>\n",
       "      <td>1.0</td>\n",
       "      <td>0.782392</td>\n",
       "      <td>0.506645</td>\n",
       "      <td>0.578073</td>\n",
       "      <td>0.0</td>\n",
       "      <td>0.980066</td>\n",
       "      <td>0.0</td>\n",
       "      <td>0.956811</td>\n",
       "      <td>0.0</td>\n",
       "      <td>0.0</td>\n",
       "      <td>0.338870</td>\n",
       "      <td>1.0</td>\n",
       "    </tr>\n",
       "    <tr>\n",
       "      <th>2</th>\n",
       "      <td>0.074751</td>\n",
       "      <td>0.0</td>\n",
       "      <td>0.556478</td>\n",
       "      <td>0.506645</td>\n",
       "      <td>0.194352</td>\n",
       "      <td>0.0</td>\n",
       "      <td>0.838870</td>\n",
       "      <td>0.0</td>\n",
       "      <td>0.681063</td>\n",
       "      <td>1.0</td>\n",
       "      <td>0.0</td>\n",
       "      <td>0.338870</td>\n",
       "      <td>1.0</td>\n",
       "    </tr>\n",
       "    <tr>\n",
       "      <th>3</th>\n",
       "      <td>0.516611</td>\n",
       "      <td>1.0</td>\n",
       "      <td>0.556478</td>\n",
       "      <td>0.259136</td>\n",
       "      <td>0.465116</td>\n",
       "      <td>0.0</td>\n",
       "      <td>0.910299</td>\n",
       "      <td>0.0</td>\n",
       "      <td>0.189369</td>\n",
       "      <td>1.0</td>\n",
       "      <td>0.0</td>\n",
       "      <td>0.338870</td>\n",
       "      <td>1.0</td>\n",
       "    </tr>\n",
       "    <tr>\n",
       "      <th>4</th>\n",
       "      <td>0.564784</td>\n",
       "      <td>0.0</td>\n",
       "      <td>0.000000</td>\n",
       "      <td>0.259136</td>\n",
       "      <td>0.980066</td>\n",
       "      <td>0.0</td>\n",
       "      <td>0.705980</td>\n",
       "      <td>1.0</td>\n",
       "      <td>0.141196</td>\n",
       "      <td>1.0</td>\n",
       "      <td>0.0</td>\n",
       "      <td>0.338870</td>\n",
       "      <td>1.0</td>\n",
       "    </tr>\n",
       "  </tbody>\n",
       "</table>\n",
       "</div>"
      ],
      "text/plain": [
       "        age  sex        cp  trestbps      chol  fbs   thalach  exang  \\\n",
       "0  0.817276  1.0  1.000000  0.810631  0.426910  1.0  0.448505    0.0   \n",
       "1  0.024917  1.0  0.782392  0.506645  0.578073  0.0  0.980066    0.0   \n",
       "2  0.074751  0.0  0.556478  0.506645  0.194352  0.0  0.838870    0.0   \n",
       "3  0.516611  1.0  0.556478  0.259136  0.465116  0.0  0.910299    0.0   \n",
       "4  0.564784  0.0  0.000000  0.259136  0.980066  0.0  0.705980    1.0   \n",
       "\n",
       "    oldpeak  slope   ca      thal  target  \n",
       "0  0.855482    0.0  0.0  0.034884     1.0  \n",
       "1  0.956811    0.0  0.0  0.338870     1.0  \n",
       "2  0.681063    1.0  0.0  0.338870     1.0  \n",
       "3  0.189369    1.0  0.0  0.338870     1.0  \n",
       "4  0.141196    1.0  0.0  0.338870     1.0  "
      ]
     },
     "execution_count": 42,
     "metadata": {},
     "output_type": "execute_result"
    }
   ],
   "source": [
    "X = df_new.drop(columns='restecg', axis=1)\n",
    "Y = df_new['restecg']\n",
    "X.head() # independent features"
   ]
  },
  {
   "cell_type": "code",
   "execution_count": 44,
   "id": "e3b46d2f",
   "metadata": {},
   "outputs": [
    {
     "data": {
      "text/plain": [
       "297    0.0\n",
       "298    0.0\n",
       "299    1.0\n",
       "300    0.0\n",
       "301    0.0\n",
       "Name: fbs, dtype: float64"
      ]
     },
     "execution_count": 44,
     "metadata": {},
     "output_type": "execute_result"
    }
   ],
   "source": [
    "Y.tail()"
   ]
  },
  {
   "cell_type": "markdown",
   "id": "35aba21e",
   "metadata": {},
   "source": [
    "# Train and Split"
   ]
  },
  {
   "cell_type": "code",
   "execution_count": 45,
   "id": "52385321",
   "metadata": {},
   "outputs": [
    {
     "data": {
      "text/plain": [
       "((211, 13), (211,))"
      ]
     },
     "execution_count": 45,
     "metadata": {},
     "output_type": "execute_result"
    }
   ],
   "source": [
    "from sklearn.model_selection import train_test_split\n",
    " # Splittingin the ratio of 60% for train, 40% for test.\n",
    "X_train, X_test, y_train, y_test= train_test_split(X,Y,test_size=0.3,random_state=12) \n",
    "X_train.shape, y_train.shape"
   ]
  },
  {
   "cell_type": "code",
   "execution_count": 46,
   "id": "784acbcd",
   "metadata": {},
   "outputs": [
    {
     "data": {
      "text/plain": [
       "((91, 13), (91,))"
      ]
     },
     "execution_count": 46,
     "metadata": {},
     "output_type": "execute_result"
    }
   ],
   "source": [
    "X_test.shape, y_test.shape"
   ]
  },
  {
   "cell_type": "markdown",
   "id": "7e0c3b6f",
   "metadata": {},
   "source": [
    "# Logistic Regression"
   ]
  },
  {
   "cell_type": "code",
   "execution_count": 47,
   "id": "9b7192eb",
   "metadata": {},
   "outputs": [
    {
     "name": "stdout",
     "output_type": "stream",
     "text": [
      "Training Accuracy    : 88.15 %\n",
      "Model Accuracy Score : 78.02 %\n",
      "\u001b[1m--------------------------------------------------------\u001b[0m\n",
      "Classification_Report: \n",
      "               precision    recall  f1-score   support\n",
      "\n",
      "         0.0       0.78      1.00      0.88        71\n",
      "         1.0       0.00      0.00      0.00        20\n",
      "\n",
      "    accuracy                           0.78        91\n",
      "   macro avg       0.39      0.50      0.44        91\n",
      "weighted avg       0.61      0.78      0.68        91\n",
      "\n",
      "\u001b[1m--------------------------------------------------------\u001b[0m\n"
     ]
    },
    {
     "name": "stderr",
     "output_type": "stream",
     "text": [
      "C:\\ProgramData\\Anaconda3\\lib\\site-packages\\sklearn\\metrics\\_classification.py:1248: UndefinedMetricWarning: Precision and F-score are ill-defined and being set to 0.0 in labels with no predicted samples. Use `zero_division` parameter to control this behavior.\n",
      "  _warn_prf(average, modifier, msg_start, len(result))\n",
      "C:\\ProgramData\\Anaconda3\\lib\\site-packages\\sklearn\\metrics\\_classification.py:1248: UndefinedMetricWarning: Precision and F-score are ill-defined and being set to 0.0 in labels with no predicted samples. Use `zero_division` parameter to control this behavior.\n",
      "  _warn_prf(average, modifier, msg_start, len(result))\n",
      "C:\\ProgramData\\Anaconda3\\lib\\site-packages\\sklearn\\metrics\\_classification.py:1248: UndefinedMetricWarning: Precision and F-score are ill-defined and being set to 0.0 in labels with no predicted samples. Use `zero_division` parameter to control this behavior.\n",
      "  _warn_prf(average, modifier, msg_start, len(result))\n"
     ]
    }
   ],
   "source": [
    "from sklearn.metrics import accuracy_score,classification_report,confusion_matrix\n",
    "from sklearn.linear_model import LogisticRegression\n",
    "logic = LogisticRegression()\n",
    "logic.fit(X_train, y_train)\n",
    "y_pred_lr = logic.predict(X_test)\n",
    "\n",
    "log_train = round(logic.score(X_train, y_train) * 100, 2)\n",
    "log_accuracy = round(accuracy_score(y_pred_lr, y_test) * 100, 2)\n",
    "\n",
    "print(\"Training Accuracy    :\",log_train ,\"%\")\n",
    "print(\"Model Accuracy Score :\",log_accuracy ,\"%\")\n",
    "print(\"\\033[1m--------------------------------------------------------\\033[0m\")\n",
    "print(\"Classification_Report: \\n\",classification_report(y_test,y_pred_lr))\n",
    "print(\"\\033[1m--------------------------------------------------------\\033[0m\")"
   ]
  },
  {
   "cell_type": "markdown",
   "id": "e737dd77",
   "metadata": {},
   "source": [
    "# Support Vector Machine"
   ]
  },
  {
   "cell_type": "code",
   "execution_count": 48,
   "id": "870e0bf5",
   "metadata": {},
   "outputs": [
    {
     "name": "stdout",
     "output_type": "stream",
     "text": [
      "Training Accuracy    : 88.15 %\n",
      "Model Accuracy Score : 78.02 %\n",
      "\u001b[1m--------------------------------------------------------\u001b[0m\n",
      "Classification_Report: \n",
      "               precision    recall  f1-score   support\n",
      "\n",
      "         0.0       0.78      1.00      0.88        71\n",
      "         1.0       0.00      0.00      0.00        20\n",
      "\n",
      "    accuracy                           0.78        91\n",
      "   macro avg       0.39      0.50      0.44        91\n",
      "weighted avg       0.61      0.78      0.68        91\n",
      "\n",
      "\u001b[1m--------------------------------------------------------\u001b[0m\n"
     ]
    },
    {
     "name": "stderr",
     "output_type": "stream",
     "text": [
      "C:\\ProgramData\\Anaconda3\\lib\\site-packages\\sklearn\\metrics\\_classification.py:1248: UndefinedMetricWarning: Precision and F-score are ill-defined and being set to 0.0 in labels with no predicted samples. Use `zero_division` parameter to control this behavior.\n",
      "  _warn_prf(average, modifier, msg_start, len(result))\n",
      "C:\\ProgramData\\Anaconda3\\lib\\site-packages\\sklearn\\metrics\\_classification.py:1248: UndefinedMetricWarning: Precision and F-score are ill-defined and being set to 0.0 in labels with no predicted samples. Use `zero_division` parameter to control this behavior.\n",
      "  _warn_prf(average, modifier, msg_start, len(result))\n",
      "C:\\ProgramData\\Anaconda3\\lib\\site-packages\\sklearn\\metrics\\_classification.py:1248: UndefinedMetricWarning: Precision and F-score are ill-defined and being set to 0.0 in labels with no predicted samples. Use `zero_division` parameter to control this behavior.\n",
      "  _warn_prf(average, modifier, msg_start, len(result))\n"
     ]
    }
   ],
   "source": [
    "from sklearn.svm import SVC\n",
    "svc = SVC()\n",
    "svc.fit(X_train, y_train)\n",
    "y_pred_svc = svc.predict(X_test)\n",
    "\n",
    "svc_train = round(svc.score(X_train, y_train) * 100, 2)\n",
    "svc_accuracy = round(accuracy_score(y_pred_svc, y_test) * 100, 2)\n",
    "\n",
    "print(\"Training Accuracy    :\",svc_train ,\"%\")\n",
    "print(\"Model Accuracy Score :\",svc_accuracy ,\"%\")\n",
    "print(\"\\033[1m--------------------------------------------------------\\033[0m\")\n",
    "print(\"Classification_Report: \\n\",classification_report(y_test,y_pred_svc))\n",
    "print(\"\\033[1m--------------------------------------------------------\\033[0m\")"
   ]
  },
  {
   "cell_type": "markdown",
   "id": "ef49995a",
   "metadata": {},
   "source": [
    "# Decision Tree classifier"
   ]
  },
  {
   "cell_type": "code",
   "execution_count": 49,
   "id": "eec9e523",
   "metadata": {},
   "outputs": [
    {
     "name": "stdout",
     "output_type": "stream",
     "text": [
      "Training Accuracy    : 100.0 %\n",
      "Model Accuracy Score : 70.33 %\n",
      "\u001b[1m--------------------------------------------------------\u001b[0m\n",
      "Classification_Report: \n",
      "               precision    recall  f1-score   support\n",
      "\n",
      "         0.0       0.79      0.85      0.82        71\n",
      "         1.0       0.27      0.20      0.23        20\n",
      "\n",
      "    accuracy                           0.70        91\n",
      "   macro avg       0.53      0.52      0.52        91\n",
      "weighted avg       0.67      0.70      0.69        91\n",
      "\n",
      "\u001b[1m--------------------------------------------------------\u001b[0m\n"
     ]
    }
   ],
   "source": [
    "from sklearn.tree import DecisionTreeClassifier\n",
    "decision = DecisionTreeClassifier()\n",
    "decision.fit(X_train, y_train)\n",
    "y_pred_dec = decision.predict(X_test)\n",
    "\n",
    "decision_train = round(decision.score(X_train, y_train) * 100, 2)\n",
    "decision_accuracy = round(accuracy_score(y_pred_dec, y_test) * 100, 2)\n",
    "\n",
    "print(\"Training Accuracy    :\",decision_train ,\"%\")\n",
    "print(\"Model Accuracy Score :\",decision_accuracy ,\"%\")\n",
    "print(\"\\033[1m--------------------------------------------------------\\033[0m\")\n",
    "print(\"Classification_Report: \\n\",classification_report(y_test,y_pred_dec))\n",
    "print(\"\\033[1m--------------------------------------------------------\\033[0m\")"
   ]
  },
  {
   "cell_type": "markdown",
   "id": "7bf13472",
   "metadata": {},
   "source": [
    "# K-Nearest Neighbour"
   ]
  },
  {
   "cell_type": "code",
   "execution_count": 50,
   "id": "7d28870e",
   "metadata": {},
   "outputs": [
    {
     "name": "stdout",
     "output_type": "stream",
     "text": [
      "Training Accuracy    : 89.1 %\n",
      "Model Accuracy Score : 76.92 %\n",
      "\u001b[1m--------------------------------------------------------\u001b[0m\n",
      "Classification_Report: \n",
      "               precision    recall  f1-score   support\n",
      "\n",
      "         0.0       0.80      0.94      0.86        71\n",
      "         1.0       0.43      0.15      0.22        20\n",
      "\n",
      "    accuracy                           0.77        91\n",
      "   macro avg       0.61      0.55      0.54        91\n",
      "weighted avg       0.72      0.77      0.72        91\n",
      "\n",
      "\u001b[1m--------------------------------------------------------\u001b[0m\n"
     ]
    }
   ],
   "source": [
    "from sklearn.neighbors import KNeighborsClassifier\n",
    "knn = KNeighborsClassifier(n_neighbors = 3)\n",
    "knn.fit(X_train, y_train)\n",
    "y_pred_knn = knn.predict(X_test)\n",
    "\n",
    "knn_train = round(knn.score(X_train, y_train) * 100, 2)\n",
    "knn_accuracy = round(accuracy_score(y_pred_knn, y_test) * 100, 2)\n",
    "\n",
    "print(\"Training Accuracy    :\",knn_train ,\"%\")\n",
    "print(\"Model Accuracy Score :\",knn_accuracy ,\"%\")\n",
    "print(\"\\033[1m--------------------------------------------------------\\033[0m\")\n",
    "print(\"Classification_Report: \\n\",classification_report(y_test,y_pred_knn))\n",
    "print(\"\\033[1m--------------------------------------------------------\\033[0m\")"
   ]
  },
  {
   "cell_type": "markdown",
   "id": "379b910a",
   "metadata": {},
   "source": [
    "# comparing different model"
   ]
  },
  {
   "cell_type": "code",
   "execution_count": 52,
   "id": "216ad2a1",
   "metadata": {},
   "outputs": [
    {
     "data": {
      "text/html": [
       "<style type=\"text/css\">\n",
       "#T_19ac8_row0_col0, #T_19ac8_row1_col0, #T_19ac8_row2_col0, #T_19ac8_row3_col0 {\n",
       "  font-family: Lucida Calligraphy;\n",
       "  color: LigntGreen;\n",
       "  font-size: 15px;\n",
       "}\n",
       "#T_19ac8_row0_col1, #T_19ac8_row1_col1, #T_19ac8_row3_col2 {\n",
       "  background-color: #3b4cc0;\n",
       "  color: #f1f1f1;\n",
       "  font-family: Lucida Calligraphy;\n",
       "  color: LigntGreen;\n",
       "  font-size: 15px;\n",
       "}\n",
       "#T_19ac8_row0_col2, #T_19ac8_row1_col2, #T_19ac8_row3_col1 {\n",
       "  background-color: #b40426;\n",
       "  color: #f1f1f1;\n",
       "  font-family: Lucida Calligraphy;\n",
       "  color: LigntGreen;\n",
       "  font-size: 15px;\n",
       "}\n",
       "#T_19ac8_row2_col1 {\n",
       "  background-color: #536edd;\n",
       "  color: #f1f1f1;\n",
       "  font-family: Lucida Calligraphy;\n",
       "  color: LigntGreen;\n",
       "  font-size: 15px;\n",
       "}\n",
       "#T_19ac8_row2_col2 {\n",
       "  background-color: #e26952;\n",
       "  color: #f1f1f1;\n",
       "  font-family: Lucida Calligraphy;\n",
       "  color: LigntGreen;\n",
       "  font-size: 15px;\n",
       "}\n",
       "</style>\n",
       "<table id=\"T_19ac8_\">\n",
       "  <thead>\n",
       "    <tr>\n",
       "      <th class=\"col_heading level0 col0\" >Model</th>\n",
       "      <th class=\"col_heading level0 col1\" >Training Accuracy</th>\n",
       "      <th class=\"col_heading level0 col2\" >Model Accuracy</th>\n",
       "    </tr>\n",
       "  </thead>\n",
       "  <tbody>\n",
       "    <tr>\n",
       "      <td id=\"T_19ac8_row0_col0\" class=\"data row0 col0\" >Support Vector Machines</td>\n",
       "      <td id=\"T_19ac8_row0_col1\" class=\"data row0 col1\" >88.150000</td>\n",
       "      <td id=\"T_19ac8_row0_col2\" class=\"data row0 col2\" >78.020000</td>\n",
       "    </tr>\n",
       "    <tr>\n",
       "      <td id=\"T_19ac8_row1_col0\" class=\"data row1 col0\" >Logistic Regression</td>\n",
       "      <td id=\"T_19ac8_row1_col1\" class=\"data row1 col1\" >88.150000</td>\n",
       "      <td id=\"T_19ac8_row1_col2\" class=\"data row1 col2\" >78.020000</td>\n",
       "    </tr>\n",
       "    <tr>\n",
       "      <td id=\"T_19ac8_row2_col0\" class=\"data row2 col0\" >KNN</td>\n",
       "      <td id=\"T_19ac8_row2_col1\" class=\"data row2 col1\" >89.100000</td>\n",
       "      <td id=\"T_19ac8_row2_col2\" class=\"data row2 col2\" >76.920000</td>\n",
       "    </tr>\n",
       "    <tr>\n",
       "      <td id=\"T_19ac8_row3_col0\" class=\"data row3 col0\" >Decission Tree</td>\n",
       "      <td id=\"T_19ac8_row3_col1\" class=\"data row3 col1\" >100.000000</td>\n",
       "      <td id=\"T_19ac8_row3_col2\" class=\"data row3 col2\" >70.330000</td>\n",
       "    </tr>\n",
       "  </tbody>\n",
       "</table>\n"
      ],
      "text/plain": [
       "<pandas.io.formats.style.Styler at 0x298cf8ee490>"
      ]
     },
     "execution_count": 52,
     "metadata": {},
     "output_type": "execute_result"
    }
   ],
   "source": [
    "# Create a variable \n",
    "models = pd.DataFrame({'Model': ['Support Vector Machines', 'KNN', 'Logistic Regression','Decission Tree'],\n",
    "                       'Training Accuracy':[svc_train,knn_train,log_train,decision_train],\n",
    "                       'Model Accuracy':[svc_accuracy,knn_accuracy,log_accuracy,decision_accuracy]})\n",
    "\n",
    "models.sort_values(by='Model Accuracy', ascending=False).style.background_gradient(\n",
    "        cmap='coolwarm').hide_index().set_properties(**{\n",
    "            'font-family': 'Lucida Calligraphy',\n",
    "            'color': 'LigntGreen',\n",
    "            'font-size': '15px'\n",
    "        })\n",
    "\n"
   ]
  },
  {
   "cell_type": "code",
   "execution_count": 53,
   "id": "f752d705",
   "metadata": {},
   "outputs": [
    {
     "data": {
      "image/png": "[encoded data removed]",
      "text/plain": [
       "<Figure size 576x288 with 1 Axes>"
      ]
     },
     "metadata": {},
     "output_type": "display_data"
    }
   ],
   "source": [
    "colors = [\"purple\", \"green\", \"orange\", \"magenta\",\"blue\",\"black\"]\n",
    "sns.set_style(\"whitegrid\")\n",
    "plt.figure(figsize=(8,4))\n",
    "plt.ylabel(\"Accuracy %\")\n",
    "plt.xlabel(\"Algorithms\")\n",
    "sns.barplot(x=models['Model'],y=models['Model Accuracy'], palette=colors )\n",
    "plt.show()"
   ]
  },
  {
   "cell_type": "markdown",
   "id": "faebb92b",
   "metadata": {},
   "source": [
    "# Final Prediction"
   ]
  },
  {
   "cell_type": "code",
   "execution_count": 58,
   "id": "007968d0",
   "metadata": {},
   "outputs": [
    {
     "name": "stdout",
     "output_type": "stream",
     "text": [
      "[[  2.      95.      90.      40.     150.      24.       0.727   20.\n",
      "   55.      30.      60.       0.5434  80.    ]]\n"
     ]
    }
   ],
   "source": [
    "# Make predictions on unseen data, here i have given random values for each features in the input_data\n",
    "# take the data  and store in the variable \n",
    "input_data = (2,95,90,40,150,24,0.727000,20,55,30,60,0.5434,80)\n",
    "\n",
    "# changing the input_data to numpy array\n",
    "input_data_as_numpy_array = np.asarray(input_data) # converting this list into numpy array\n",
    "\n",
    "# reshape the numpy array as we are predicting for one instance\n",
    "\n",
    "input_data_reshaped= input_data_as_numpy_array.reshape(1,-1)\n",
    "print(input_data_reshaped)"
   ]
  },
  {
   "cell_type": "code",
   "execution_count": 60,
   "id": "0876cc2c",
   "metadata": {},
   "outputs": [
    {
     "name": "stdout",
     "output_type": "stream",
     "text": [
      "[1.]\n",
      "The patient is predicted to have heart disease.\n"
     ]
    }
   ],
   "source": [
    "# predict\n",
    "predictions = logic.predict(input_data_reshaped)\n",
    "print(predictions)\n",
    "if predictions[0] == 1:\n",
    "    print(\"The patient is predicted to have heart disease.\")\n",
    "else:\n",
    "    print(\"The patient is predicted to not have heart disease.\")"
   ]
  },
  {
   "cell_type": "code",
   "execution_count": null,
   "id": "965cf252",
   "metadata": {},
   "outputs": [],
   "source": []
  }
 ],
 "metadata": {
  "kernelspec": {
   "display_name": "Python 3 (ipykernel)",
   "language": "python",
   "name": "python3"
  },
  "language_info": {
   "codemirror_mode": {
    "name": "ipython",
    "version": 3
   },
   "file_extension": ".py",
   "mimetype": "text/x-python",
   "name": "python",
   "nbconvert_exporter": "python",
   "pygments_lexer": "ipython3",
   "version": "3.9.7"
  }
 },
 "nbformat": 4,
 "nbformat_minor": 5
}
