{
 "cells": [
  {
   "cell_type": "code",
   "execution_count": 2,
   "id": "399e284e",
   "metadata": {},
   "outputs": [],
   "source": [
    "import pandas as pd\n",
    "import numpy as np\n",
    "import matplotlib.pyplot as plt\n",
    "import seaborn as sns"
   ]
  },
  {
   "cell_type": "code",
   "execution_count": 3,
   "id": "4922c307",
   "metadata": {},
   "outputs": [
    {
     "data": {
      "text/html": [
       "<style type=\"text/css\">\n",
       "#T_8c68c_row0_col0, #T_8c68c_row0_col1, #T_8c68c_row0_col2, #T_8c68c_row0_col3, #T_8c68c_row0_col4, #T_8c68c_row0_col5, #T_8c68c_row0_col6, #T_8c68c_row0_col7, #T_8c68c_row0_col8, #T_8c68c_row1_col0, #T_8c68c_row1_col1, #T_8c68c_row1_col2, #T_8c68c_row1_col3, #T_8c68c_row1_col4, #T_8c68c_row1_col5, #T_8c68c_row1_col6, #T_8c68c_row1_col7, #T_8c68c_row1_col8, #T_8c68c_row2_col0, #T_8c68c_row2_col1, #T_8c68c_row2_col2, #T_8c68c_row2_col3, #T_8c68c_row2_col4, #T_8c68c_row2_col5, #T_8c68c_row2_col6, #T_8c68c_row2_col7, #T_8c68c_row2_col8, #T_8c68c_row3_col0, #T_8c68c_row3_col1, #T_8c68c_row3_col2, #T_8c68c_row3_col3, #T_8c68c_row3_col4, #T_8c68c_row3_col5, #T_8c68c_row3_col6, #T_8c68c_row3_col7, #T_8c68c_row3_col8, #T_8c68c_row4_col0, #T_8c68c_row4_col1, #T_8c68c_row4_col2, #T_8c68c_row4_col3, #T_8c68c_row4_col4, #T_8c68c_row4_col5, #T_8c68c_row4_col6, #T_8c68c_row4_col7, #T_8c68c_row4_col8, #T_8c68c_row5_col0, #T_8c68c_row5_col1, #T_8c68c_row5_col2, #T_8c68c_row5_col3, #T_8c68c_row5_col4, #T_8c68c_row5_col5, #T_8c68c_row5_col6, #T_8c68c_row5_col7, #T_8c68c_row5_col8, #T_8c68c_row6_col0, #T_8c68c_row6_col1, #T_8c68c_row6_col2, #T_8c68c_row6_col3, #T_8c68c_row6_col4, #T_8c68c_row6_col5, #T_8c68c_row6_col6, #T_8c68c_row6_col7, #T_8c68c_row6_col8, #T_8c68c_row7_col0, #T_8c68c_row7_col1, #T_8c68c_row7_col2, #T_8c68c_row7_col3, #T_8c68c_row7_col4, #T_8c68c_row7_col5, #T_8c68c_row7_col6, #T_8c68c_row7_col7, #T_8c68c_row7_col8, #T_8c68c_row8_col0, #T_8c68c_row8_col1, #T_8c68c_row8_col2, #T_8c68c_row8_col3, #T_8c68c_row8_col4, #T_8c68c_row8_col5, #T_8c68c_row8_col6, #T_8c68c_row8_col7, #T_8c68c_row8_col8, #T_8c68c_row9_col0, #T_8c68c_row9_col1, #T_8c68c_row9_col2, #T_8c68c_row9_col3, #T_8c68c_row9_col4, #T_8c68c_row9_col5, #T_8c68c_row9_col6, #T_8c68c_row9_col7, #T_8c68c_row9_col8 {\n",
       "  background-color: OliveDrab;\n",
       "  color: white;\n",
       "  border-color: darkblack;\n",
       "}\n",
       "</style>\n",
       "<table id=\"T_8c68c_\">\n",
       "  <thead>\n",
       "    <tr>\n",
       "      <th class=\"blank level0\" >&nbsp;</th>\n",
       "      <th class=\"col_heading level0 col0\" >Pregnancies</th>\n",
       "      <th class=\"col_heading level0 col1\" >Glucose</th>\n",
       "      <th class=\"col_heading level0 col2\" >BloodPressure</th>\n",
       "      <th class=\"col_heading level0 col3\" >SkinThickness</th>\n",
       "      <th class=\"col_heading level0 col4\" >Insulin</th>\n",
       "      <th class=\"col_heading level0 col5\" >BMI</th>\n",
       "      <th class=\"col_heading level0 col6\" >DiabetesPedigreeFunction</th>\n",
       "      <th class=\"col_heading level0 col7\" >Age</th>\n",
       "      <th class=\"col_heading level0 col8\" >Outcome</th>\n",
       "    </tr>\n",
       "  </thead>\n",
       "  <tbody>\n",
       "    <tr>\n",
       "      <th id=\"T_8c68c_level0_row0\" class=\"row_heading level0 row0\" >0</th>\n",
       "      <td id=\"T_8c68c_row0_col0\" class=\"data row0 col0\" >6</td>\n",
       "      <td id=\"T_8c68c_row0_col1\" class=\"data row0 col1\" >148</td>\n",
       "      <td id=\"T_8c68c_row0_col2\" class=\"data row0 col2\" >72</td>\n",
       "      <td id=\"T_8c68c_row0_col3\" class=\"data row0 col3\" >35</td>\n",
       "      <td id=\"T_8c68c_row0_col4\" class=\"data row0 col4\" >0</td>\n",
       "      <td id=\"T_8c68c_row0_col5\" class=\"data row0 col5\" >33.600000</td>\n",
       "      <td id=\"T_8c68c_row0_col6\" class=\"data row0 col6\" >0.627000</td>\n",
       "      <td id=\"T_8c68c_row0_col7\" class=\"data row0 col7\" >50</td>\n",
       "      <td id=\"T_8c68c_row0_col8\" class=\"data row0 col8\" >1</td>\n",
       "    </tr>\n",
       "    <tr>\n",
       "      <th id=\"T_8c68c_level0_row1\" class=\"row_heading level0 row1\" >1</th>\n",
       "      <td id=\"T_8c68c_row1_col0\" class=\"data row1 col0\" >1</td>\n",
       "      <td id=\"T_8c68c_row1_col1\" class=\"data row1 col1\" >85</td>\n",
       "      <td id=\"T_8c68c_row1_col2\" class=\"data row1 col2\" >66</td>\n",
       "      <td id=\"T_8c68c_row1_col3\" class=\"data row1 col3\" >29</td>\n",
       "      <td id=\"T_8c68c_row1_col4\" class=\"data row1 col4\" >0</td>\n",
       "      <td id=\"T_8c68c_row1_col5\" class=\"data row1 col5\" >26.600000</td>\n",
       "      <td id=\"T_8c68c_row1_col6\" class=\"data row1 col6\" >0.351000</td>\n",
       "      <td id=\"T_8c68c_row1_col7\" class=\"data row1 col7\" >31</td>\n",
       "      <td id=\"T_8c68c_row1_col8\" class=\"data row1 col8\" >0</td>\n",
       "    </tr>\n",
       "    <tr>\n",
       "      <th id=\"T_8c68c_level0_row2\" class=\"row_heading level0 row2\" >2</th>\n",
       "      <td id=\"T_8c68c_row2_col0\" class=\"data row2 col0\" >8</td>\n",
       "      <td id=\"T_8c68c_row2_col1\" class=\"data row2 col1\" >183</td>\n",
       "      <td id=\"T_8c68c_row2_col2\" class=\"data row2 col2\" >64</td>\n",
       "      <td id=\"T_8c68c_row2_col3\" class=\"data row2 col3\" >0</td>\n",
       "      <td id=\"T_8c68c_row2_col4\" class=\"data row2 col4\" >0</td>\n",
       "      <td id=\"T_8c68c_row2_col5\" class=\"data row2 col5\" >23.300000</td>\n",
       "      <td id=\"T_8c68c_row2_col6\" class=\"data row2 col6\" >0.672000</td>\n",
       "      <td id=\"T_8c68c_row2_col7\" class=\"data row2 col7\" >32</td>\n",
       "      <td id=\"T_8c68c_row2_col8\" class=\"data row2 col8\" >1</td>\n",
       "    </tr>\n",
       "    <tr>\n",
       "      <th id=\"T_8c68c_level0_row3\" class=\"row_heading level0 row3\" >3</th>\n",
       "      <td id=\"T_8c68c_row3_col0\" class=\"data row3 col0\" >1</td>\n",
       "      <td id=\"T_8c68c_row3_col1\" class=\"data row3 col1\" >89</td>\n",
       "      <td id=\"T_8c68c_row3_col2\" class=\"data row3 col2\" >66</td>\n",
       "      <td id=\"T_8c68c_row3_col3\" class=\"data row3 col3\" >23</td>\n",
       "      <td id=\"T_8c68c_row3_col4\" class=\"data row3 col4\" >94</td>\n",
       "      <td id=\"T_8c68c_row3_col5\" class=\"data row3 col5\" >28.100000</td>\n",
       "      <td id=\"T_8c68c_row3_col6\" class=\"data row3 col6\" >0.167000</td>\n",
       "      <td id=\"T_8c68c_row3_col7\" class=\"data row3 col7\" >21</td>\n",
       "      <td id=\"T_8c68c_row3_col8\" class=\"data row3 col8\" >0</td>\n",
       "    </tr>\n",
       "    <tr>\n",
       "      <th id=\"T_8c68c_level0_row4\" class=\"row_heading level0 row4\" >4</th>\n",
       "      <td id=\"T_8c68c_row4_col0\" class=\"data row4 col0\" >0</td>\n",
       "      <td id=\"T_8c68c_row4_col1\" class=\"data row4 col1\" >137</td>\n",
       "      <td id=\"T_8c68c_row4_col2\" class=\"data row4 col2\" >40</td>\n",
       "      <td id=\"T_8c68c_row4_col3\" class=\"data row4 col3\" >35</td>\n",
       "      <td id=\"T_8c68c_row4_col4\" class=\"data row4 col4\" >168</td>\n",
       "      <td id=\"T_8c68c_row4_col5\" class=\"data row4 col5\" >43.100000</td>\n",
       "      <td id=\"T_8c68c_row4_col6\" class=\"data row4 col6\" >2.288000</td>\n",
       "      <td id=\"T_8c68c_row4_col7\" class=\"data row4 col7\" >33</td>\n",
       "      <td id=\"T_8c68c_row4_col8\" class=\"data row4 col8\" >1</td>\n",
       "    </tr>\n",
       "    <tr>\n",
       "      <th id=\"T_8c68c_level0_row5\" class=\"row_heading level0 row5\" >5</th>\n",
       "      <td id=\"T_8c68c_row5_col0\" class=\"data row5 col0\" >5</td>\n",
       "      <td id=\"T_8c68c_row5_col1\" class=\"data row5 col1\" >116</td>\n",
       "      <td id=\"T_8c68c_row5_col2\" class=\"data row5 col2\" >74</td>\n",
       "      <td id=\"T_8c68c_row5_col3\" class=\"data row5 col3\" >0</td>\n",
       "      <td id=\"T_8c68c_row5_col4\" class=\"data row5 col4\" >0</td>\n",
       "      <td id=\"T_8c68c_row5_col5\" class=\"data row5 col5\" >25.600000</td>\n",
       "      <td id=\"T_8c68c_row5_col6\" class=\"data row5 col6\" >0.201000</td>\n",
       "      <td id=\"T_8c68c_row5_col7\" class=\"data row5 col7\" >30</td>\n",
       "      <td id=\"T_8c68c_row5_col8\" class=\"data row5 col8\" >0</td>\n",
       "    </tr>\n",
       "    <tr>\n",
       "      <th id=\"T_8c68c_level0_row6\" class=\"row_heading level0 row6\" >6</th>\n",
       "      <td id=\"T_8c68c_row6_col0\" class=\"data row6 col0\" >3</td>\n",
       "      <td id=\"T_8c68c_row6_col1\" class=\"data row6 col1\" >78</td>\n",
       "      <td id=\"T_8c68c_row6_col2\" class=\"data row6 col2\" >50</td>\n",
       "      <td id=\"T_8c68c_row6_col3\" class=\"data row6 col3\" >32</td>\n",
       "      <td id=\"T_8c68c_row6_col4\" class=\"data row6 col4\" >88</td>\n",
       "      <td id=\"T_8c68c_row6_col5\" class=\"data row6 col5\" >31.000000</td>\n",
       "      <td id=\"T_8c68c_row6_col6\" class=\"data row6 col6\" >0.248000</td>\n",
       "      <td id=\"T_8c68c_row6_col7\" class=\"data row6 col7\" >26</td>\n",
       "      <td id=\"T_8c68c_row6_col8\" class=\"data row6 col8\" >1</td>\n",
       "    </tr>\n",
       "    <tr>\n",
       "      <th id=\"T_8c68c_level0_row7\" class=\"row_heading level0 row7\" >7</th>\n",
       "      <td id=\"T_8c68c_row7_col0\" class=\"data row7 col0\" >10</td>\n",
       "      <td id=\"T_8c68c_row7_col1\" class=\"data row7 col1\" >115</td>\n",
       "      <td id=\"T_8c68c_row7_col2\" class=\"data row7 col2\" >0</td>\n",
       "      <td id=\"T_8c68c_row7_col3\" class=\"data row7 col3\" >0</td>\n",
       "      <td id=\"T_8c68c_row7_col4\" class=\"data row7 col4\" >0</td>\n",
       "      <td id=\"T_8c68c_row7_col5\" class=\"data row7 col5\" >35.300000</td>\n",
       "      <td id=\"T_8c68c_row7_col6\" class=\"data row7 col6\" >0.134000</td>\n",
       "      <td id=\"T_8c68c_row7_col7\" class=\"data row7 col7\" >29</td>\n",
       "      <td id=\"T_8c68c_row7_col8\" class=\"data row7 col8\" >0</td>\n",
       "    </tr>\n",
       "    <tr>\n",
       "      <th id=\"T_8c68c_level0_row8\" class=\"row_heading level0 row8\" >8</th>\n",
       "      <td id=\"T_8c68c_row8_col0\" class=\"data row8 col0\" >2</td>\n",
       "      <td id=\"T_8c68c_row8_col1\" class=\"data row8 col1\" >197</td>\n",
       "      <td id=\"T_8c68c_row8_col2\" class=\"data row8 col2\" >70</td>\n",
       "      <td id=\"T_8c68c_row8_col3\" class=\"data row8 col3\" >45</td>\n",
       "      <td id=\"T_8c68c_row8_col4\" class=\"data row8 col4\" >543</td>\n",
       "      <td id=\"T_8c68c_row8_col5\" class=\"data row8 col5\" >30.500000</td>\n",
       "      <td id=\"T_8c68c_row8_col6\" class=\"data row8 col6\" >0.158000</td>\n",
       "      <td id=\"T_8c68c_row8_col7\" class=\"data row8 col7\" >53</td>\n",
       "      <td id=\"T_8c68c_row8_col8\" class=\"data row8 col8\" >1</td>\n",
       "    </tr>\n",
       "    <tr>\n",
       "      <th id=\"T_8c68c_level0_row9\" class=\"row_heading level0 row9\" >9</th>\n",
       "      <td id=\"T_8c68c_row9_col0\" class=\"data row9 col0\" >8</td>\n",
       "      <td id=\"T_8c68c_row9_col1\" class=\"data row9 col1\" >125</td>\n",
       "      <td id=\"T_8c68c_row9_col2\" class=\"data row9 col2\" >96</td>\n",
       "      <td id=\"T_8c68c_row9_col3\" class=\"data row9 col3\" >0</td>\n",
       "      <td id=\"T_8c68c_row9_col4\" class=\"data row9 col4\" >0</td>\n",
       "      <td id=\"T_8c68c_row9_col5\" class=\"data row9 col5\" >0.000000</td>\n",
       "      <td id=\"T_8c68c_row9_col6\" class=\"data row9 col6\" >0.232000</td>\n",
       "      <td id=\"T_8c68c_row9_col7\" class=\"data row9 col7\" >54</td>\n",
       "      <td id=\"T_8c68c_row9_col8\" class=\"data row9 col8\" >1</td>\n",
       "    </tr>\n",
       "  </tbody>\n",
       "</table>\n"
      ],
      "text/plain": [
       "<pandas.io.formats.style.Styler at 0x1ed11e29d00>"
      ]
     },
     "execution_count": 3,
     "metadata": {},
     "output_type": "execute_result"
    }
   ],
   "source": [
    "dataframe = pd.read_csv(\"diabetes.csv\")\n",
    "dataframe.head(10).style.set_properties(\n",
    "    **{\n",
    "        'background-color': 'OliveDrab',\n",
    "        'color': 'white',\n",
    "        'border-color': 'darkblack'\n",
    "    })"
   ]
  },
  {
   "cell_type": "code",
   "execution_count": 44,
   "id": "ea14271f",
   "metadata": {},
   "outputs": [
    {
     "name": "stdout",
     "output_type": "stream",
     "text": [
      "Shape of Diabetes dataset is : (768, 9)\n",
      "Size of Diabetes dataset is  : 6912\n"
     ]
    }
   ],
   "source": [
    "print('Shape of Diabetes dataset is :',dataframe.shape)\n",
    "print('Size of Diabetes dataset is  :',dataframe.size)"
   ]
  },
  {
   "cell_type": "code",
   "execution_count": 45,
   "id": "b1bbdfbb",
   "metadata": {},
   "outputs": [
    {
     "data": {
      "text/plain": [
       "Index(['Pregnancies', 'Glucose', 'BloodPressure', 'SkinThickness', 'Insulin',\n",
       "       'BMI', 'DiabetesPedigreeFunction', 'Age', 'Outcome'],\n",
       "      dtype='object')"
      ]
     },
     "execution_count": 45,
     "metadata": {},
     "output_type": "execute_result"
    }
   ],
   "source": [
    "dataframe.columns"
   ]
  },
  {
   "cell_type": "code",
   "execution_count": 46,
   "id": "793b0ab1",
   "metadata": {},
   "outputs": [
    {
     "name": "stdout",
     "output_type": "stream",
     "text": [
      "<class 'pandas.core.frame.DataFrame'>\n",
      "Int64Index: 768 entries, 0 to 767\n",
      "Data columns (total 9 columns):\n",
      " #   Column                    Non-Null Count  Dtype  \n",
      "---  ------                    --------------  -----  \n",
      " 0   Pregnancies               768 non-null    int64  \n",
      " 1   Glucose                   768 non-null    int64  \n",
      " 2   BloodPressure             768 non-null    int64  \n",
      " 3   SkinThickness             768 non-null    int64  \n",
      " 4   Insulin                   768 non-null    int64  \n",
      " 5   BMI                       768 non-null    float64\n",
      " 6   DiabetesPedigreeFunction  768 non-null    float64\n",
      " 7   Age                       768 non-null    int64  \n",
      " 8   Outcome                   768 non-null    int64  \n",
      "dtypes: float64(2), int64(7)\n",
      "memory usage: 60.0 KB\n"
     ]
    }
   ],
   "source": [
    "# Drop if there are duplicates rows.\n",
    "dataframe = dataframe.drop_duplicates()\n",
    "dataframe.info()"
   ]
  },
  {
   "cell_type": "code",
   "execution_count": 47,
   "id": "09488f96",
   "metadata": {},
   "outputs": [
    {
     "data": {
      "text/html": [
       "<div>\n",
       "<style scoped>\n",
       "    .dataframe tbody tr th:only-of-type {\n",
       "        vertical-align: middle;\n",
       "    }\n",
       "\n",
       "    .dataframe tbody tr th {\n",
       "        vertical-align: top;\n",
       "    }\n",
       "\n",
       "    .dataframe thead th {\n",
       "        text-align: right;\n",
       "    }\n",
       "</style>\n",
       "<table border=\"1\" class=\"dataframe\">\n",
       "  <thead>\n",
       "    <tr style=\"text-align: right;\">\n",
       "      <th></th>\n",
       "      <th>Pregnancies</th>\n",
       "      <th>Glucose</th>\n",
       "      <th>BloodPressure</th>\n",
       "      <th>SkinThickness</th>\n",
       "      <th>Insulin</th>\n",
       "      <th>BMI</th>\n",
       "      <th>DiabetesPedigreeFunction</th>\n",
       "      <th>Age</th>\n",
       "      <th>Outcome</th>\n",
       "    </tr>\n",
       "  </thead>\n",
       "  <tbody>\n",
       "    <tr>\n",
       "      <th>count</th>\n",
       "      <td>768.000000</td>\n",
       "      <td>768.000000</td>\n",
       "      <td>768.000000</td>\n",
       "      <td>768.000000</td>\n",
       "      <td>768.000000</td>\n",
       "      <td>768.000000</td>\n",
       "      <td>768.000000</td>\n",
       "      <td>768.000000</td>\n",
       "      <td>768.000000</td>\n",
       "    </tr>\n",
       "    <tr>\n",
       "      <th>mean</th>\n",
       "      <td>3.845052</td>\n",
       "      <td>120.894531</td>\n",
       "      <td>69.105469</td>\n",
       "      <td>20.536458</td>\n",
       "      <td>79.799479</td>\n",
       "      <td>31.992578</td>\n",
       "      <td>0.471876</td>\n",
       "      <td>33.240885</td>\n",
       "      <td>0.348958</td>\n",
       "    </tr>\n",
       "    <tr>\n",
       "      <th>std</th>\n",
       "      <td>3.369578</td>\n",
       "      <td>31.972618</td>\n",
       "      <td>19.355807</td>\n",
       "      <td>15.952218</td>\n",
       "      <td>115.244002</td>\n",
       "      <td>7.884160</td>\n",
       "      <td>0.331329</td>\n",
       "      <td>11.760232</td>\n",
       "      <td>0.476951</td>\n",
       "    </tr>\n",
       "    <tr>\n",
       "      <th>min</th>\n",
       "      <td>0.000000</td>\n",
       "      <td>0.000000</td>\n",
       "      <td>0.000000</td>\n",
       "      <td>0.000000</td>\n",
       "      <td>0.000000</td>\n",
       "      <td>0.000000</td>\n",
       "      <td>0.078000</td>\n",
       "      <td>21.000000</td>\n",
       "      <td>0.000000</td>\n",
       "    </tr>\n",
       "    <tr>\n",
       "      <th>25%</th>\n",
       "      <td>1.000000</td>\n",
       "      <td>99.000000</td>\n",
       "      <td>62.000000</td>\n",
       "      <td>0.000000</td>\n",
       "      <td>0.000000</td>\n",
       "      <td>27.300000</td>\n",
       "      <td>0.243750</td>\n",
       "      <td>24.000000</td>\n",
       "      <td>0.000000</td>\n",
       "    </tr>\n",
       "    <tr>\n",
       "      <th>50%</th>\n",
       "      <td>3.000000</td>\n",
       "      <td>117.000000</td>\n",
       "      <td>72.000000</td>\n",
       "      <td>23.000000</td>\n",
       "      <td>30.500000</td>\n",
       "      <td>32.000000</td>\n",
       "      <td>0.372500</td>\n",
       "      <td>29.000000</td>\n",
       "      <td>0.000000</td>\n",
       "    </tr>\n",
       "    <tr>\n",
       "      <th>75%</th>\n",
       "      <td>6.000000</td>\n",
       "      <td>140.250000</td>\n",
       "      <td>80.000000</td>\n",
       "      <td>32.000000</td>\n",
       "      <td>127.250000</td>\n",
       "      <td>36.600000</td>\n",
       "      <td>0.626250</td>\n",
       "      <td>41.000000</td>\n",
       "      <td>1.000000</td>\n",
       "    </tr>\n",
       "    <tr>\n",
       "      <th>max</th>\n",
       "      <td>17.000000</td>\n",
       "      <td>199.000000</td>\n",
       "      <td>122.000000</td>\n",
       "      <td>99.000000</td>\n",
       "      <td>846.000000</td>\n",
       "      <td>67.100000</td>\n",
       "      <td>2.420000</td>\n",
       "      <td>81.000000</td>\n",
       "      <td>1.000000</td>\n",
       "    </tr>\n",
       "  </tbody>\n",
       "</table>\n",
       "</div>"
      ],
      "text/plain": [
       "       Pregnancies     Glucose  BloodPressure  SkinThickness     Insulin  \\\n",
       "count   768.000000  768.000000     768.000000     768.000000  768.000000   \n",
       "mean      3.845052  120.894531      69.105469      20.536458   79.799479   \n",
       "std       3.369578   31.972618      19.355807      15.952218  115.244002   \n",
       "min       0.000000    0.000000       0.000000       0.000000    0.000000   \n",
       "25%       1.000000   99.000000      62.000000       0.000000    0.000000   \n",
       "50%       3.000000  117.000000      72.000000      23.000000   30.500000   \n",
       "75%       6.000000  140.250000      80.000000      32.000000  127.250000   \n",
       "max      17.000000  199.000000     122.000000      99.000000  846.000000   \n",
       "\n",
       "              BMI  DiabetesPedigreeFunction         Age     Outcome  \n",
       "count  768.000000                768.000000  768.000000  768.000000  \n",
       "mean    31.992578                  0.471876   33.240885    0.348958  \n",
       "std      7.884160                  0.331329   11.760232    0.476951  \n",
       "min      0.000000                  0.078000   21.000000    0.000000  \n",
       "25%     27.300000                  0.243750   24.000000    0.000000  \n",
       "50%     32.000000                  0.372500   29.000000    0.000000  \n",
       "75%     36.600000                  0.626250   41.000000    1.000000  \n",
       "max     67.100000                  2.420000   81.000000    1.000000  "
      ]
     },
     "execution_count": 47,
     "metadata": {},
     "output_type": "execute_result"
    }
   ],
   "source": [
    "dataframe.describe()"
   ]
  },
  {
   "cell_type": "code",
   "execution_count": 12,
   "id": "a2330e0b",
   "metadata": {},
   "outputs": [
    {
     "data": {
      "text/plain": [
       "<AxesSubplot:>"
      ]
     },
     "execution_count": 12,
     "metadata": {},
     "output_type": "execute_result"
    },
    {
     "data": {
      "image/png": "[encoded data removed]",
      "text/plain": [
       "<Figure size 720x720 with 2 Axes>"
      ]
     },
     "metadata": {
      "needs_background": "light"
     },
     "output_type": "display_data"
    }
   ],
   "source": [
    "plt.figure(figsize=(10,10))\n",
    "corrmat=dataframe.corr()\n",
    "sns.heatmap(corrmat, annot=True)"
   ]
  },
  {
   "cell_type": "code",
   "execution_count": 49,
   "id": "28bb01e2",
   "metadata": {},
   "outputs": [
    {
     "name": "stdout",
     "output_type": "stream",
     "text": [
      "Glucose            5\n",
      "BloodPressure     35\n",
      "SkinThickness    227\n",
      "Insulin          374\n",
      "BMI               11\n",
      "dtype: int64\n"
     ]
    }
   ],
   "source": [
    "# show how many columns has 0 values and sum it\n",
    "\n",
    "featureList = ['Glucose', 'BloodPressure','SkinThickness','Insulin','BMI']\n",
    "print(dataframe[featureList].isin({0}).sum())"
   ]
  },
  {
   "cell_type": "code",
   "execution_count": 50,
   "id": "76faafc2",
   "metadata": {},
   "outputs": [],
   "source": [
    "dataframe['Glucose']=dataframe['Glucose'].replace(0,dataframe['Glucose'].mean())#normal distribution\n",
    "dataframe['BloodPressure']=dataframe['BloodPressure'].replace(0,dataframe['BloodPressure'].mean())#normal distribution\n",
    "dataframe['SkinThickness']=dataframe['SkinThickness'].replace(0,dataframe['SkinThickness'].median())#skewed distribution\n",
    "dataframe['Insulin']=dataframe['Insulin'].replace(0,dataframe['Insulin'].median())#skewed distribution\n",
    "dataframe['BMI']=dataframe['BMI'].replace(0,dataframe['BMI'].median())#skewed distribution"
   ]
  },
  {
   "cell_type": "code",
   "execution_count": 51,
   "id": "39c8c6ac",
   "metadata": {},
   "outputs": [
    {
     "name": "stdout",
     "output_type": "stream",
     "text": [
      "Glucose          0\n",
      "BloodPressure    0\n",
      "SkinThickness    0\n",
      "Insulin          0\n",
      "BMI              0\n",
      "dtype: int64\n"
     ]
    }
   ],
   "source": [
    "featureList = ['Glucose', 'BloodPressure','SkinThickness','Insulin','BMI']\n",
    "print(dataframe[featureList].isin({0}).sum())"
   ]
  },
  {
   "cell_type": "code",
   "execution_count": 52,
   "id": "b6959dc3",
   "metadata": {},
   "outputs": [
    {
     "data": {
      "text/plain": [
       "0          Diabetic\n",
       "1      Non-Diabetic\n",
       "2          Diabetic\n",
       "3      Non-Diabetic\n",
       "4          Diabetic\n",
       "           ...     \n",
       "763    Non-Diabetic\n",
       "764    Non-Diabetic\n",
       "765    Non-Diabetic\n",
       "766        Diabetic\n",
       "767    Non-Diabetic\n",
       "Name: Outcome, Length: 768, dtype: object"
      ]
     },
     "execution_count": 52,
     "metadata": {},
     "output_type": "execute_result"
    }
   ],
   "source": [
    "# replacing the value 0 and 1 in column name Outcome for readability\n",
    "dataframe[\"Outcome\"].replace(0,\"Non-Diabetic\",inplace=True) \n",
    "dataframe[\"Outcome\"].replace(1,\"Diabetic\",inplace=True)\n",
    "dataframe[\"Outcome\"]"
   ]
  },
  {
   "cell_type": "code",
   "execution_count": 53,
   "id": "5d5a0c1d",
   "metadata": {},
   "outputs": [
    {
     "data": {
      "image/png": "[encoded data removed]",
      "text/plain": [
       "<Figure size 1008x432 with 2 Axes>"
      ]
     },
     "metadata": {
      "needs_background": "light"
     },
     "output_type": "display_data"
    }
   ],
   "source": [
    "# plot the no of patients \n",
    "plt.figure(figsize=(14,6))\n",
    "\n",
    "ax = plt.subplot(1,2,1)\n",
    "ax = sns.countplot(x='Outcome', data=dataframe)\n",
    "ax.bar_label(ax.containers[0])\n",
    "plt.title(\"Outcome\", fontsize=20)\n",
    "\n",
    "ax =plt.subplot(1,2,2)\n",
    "ax=dataframe['Outcome'].value_counts().plot.pie(explode=[0.1, 0.1],autopct='%1.2f%%',shadow=True);\n",
    "ax.set_title(label = \"Outcome\", fontsize = 20,color='Red',font='Lucida Calligraphy');"
   ]
  },
  {
   "cell_type": "code",
   "execution_count": 54,
   "id": "4a1f77c2",
   "metadata": {},
   "outputs": [
    {
     "data": {
      "text/html": [
       "<div>\n",
       "<style scoped>\n",
       "    .dataframe tbody tr th:only-of-type {\n",
       "        vertical-align: middle;\n",
       "    }\n",
       "\n",
       "    .dataframe tbody tr th {\n",
       "        vertical-align: top;\n",
       "    }\n",
       "\n",
       "    .dataframe thead th {\n",
       "        text-align: right;\n",
       "    }\n",
       "</style>\n",
       "<table border=\"1\" class=\"dataframe\">\n",
       "  <thead>\n",
       "    <tr style=\"text-align: right;\">\n",
       "      <th></th>\n",
       "      <th>Pregnancies</th>\n",
       "      <th>Glucose</th>\n",
       "      <th>BloodPressure</th>\n",
       "      <th>SkinThickness</th>\n",
       "      <th>Insulin</th>\n",
       "      <th>BMI</th>\n",
       "      <th>DiabetesPedigreeFunction</th>\n",
       "      <th>Age</th>\n",
       "      <th>Outcome</th>\n",
       "    </tr>\n",
       "  </thead>\n",
       "  <tbody>\n",
       "    <tr>\n",
       "      <th>0</th>\n",
       "      <td>6</td>\n",
       "      <td>148.0</td>\n",
       "      <td>72.0</td>\n",
       "      <td>35</td>\n",
       "      <td>30.5</td>\n",
       "      <td>33.6</td>\n",
       "      <td>0.627</td>\n",
       "      <td>50</td>\n",
       "      <td>Diabetic</td>\n",
       "    </tr>\n",
       "    <tr>\n",
       "      <th>2</th>\n",
       "      <td>8</td>\n",
       "      <td>183.0</td>\n",
       "      <td>64.0</td>\n",
       "      <td>23</td>\n",
       "      <td>30.5</td>\n",
       "      <td>23.3</td>\n",
       "      <td>0.672</td>\n",
       "      <td>32</td>\n",
       "      <td>Diabetic</td>\n",
       "    </tr>\n",
       "    <tr>\n",
       "      <th>4</th>\n",
       "      <td>0</td>\n",
       "      <td>137.0</td>\n",
       "      <td>40.0</td>\n",
       "      <td>35</td>\n",
       "      <td>168.0</td>\n",
       "      <td>43.1</td>\n",
       "      <td>2.288</td>\n",
       "      <td>33</td>\n",
       "      <td>Diabetic</td>\n",
       "    </tr>\n",
       "    <tr>\n",
       "      <th>6</th>\n",
       "      <td>3</td>\n",
       "      <td>78.0</td>\n",
       "      <td>50.0</td>\n",
       "      <td>32</td>\n",
       "      <td>88.0</td>\n",
       "      <td>31.0</td>\n",
       "      <td>0.248</td>\n",
       "      <td>26</td>\n",
       "      <td>Diabetic</td>\n",
       "    </tr>\n",
       "    <tr>\n",
       "      <th>8</th>\n",
       "      <td>2</td>\n",
       "      <td>197.0</td>\n",
       "      <td>70.0</td>\n",
       "      <td>45</td>\n",
       "      <td>543.0</td>\n",
       "      <td>30.5</td>\n",
       "      <td>0.158</td>\n",
       "      <td>53</td>\n",
       "      <td>Diabetic</td>\n",
       "    </tr>\n",
       "  </tbody>\n",
       "</table>\n",
       "</div>"
      ],
      "text/plain": [
       "   Pregnancies  Glucose  BloodPressure  SkinThickness  Insulin   BMI  \\\n",
       "0            6    148.0           72.0             35     30.5  33.6   \n",
       "2            8    183.0           64.0             23     30.5  23.3   \n",
       "4            0    137.0           40.0             35    168.0  43.1   \n",
       "6            3     78.0           50.0             32     88.0  31.0   \n",
       "8            2    197.0           70.0             45    543.0  30.5   \n",
       "\n",
       "   DiabetesPedigreeFunction  Age   Outcome  \n",
       "0                     0.627   50  Diabetic  \n",
       "2                     0.672   32  Diabetic  \n",
       "4                     2.288   33  Diabetic  \n",
       "6                     0.248   26  Diabetic  \n",
       "8                     0.158   53  Diabetic  "
      ]
     },
     "execution_count": 54,
     "metadata": {},
     "output_type": "execute_result"
    }
   ],
   "source": [
    "# for my analysis purpose i am saving the diabetic and non-diabetic data in different variables.\n",
    "Diabetic = dataframe[dataframe[\"Outcome\"]==\"Diabetic\"]\n",
    "Non_diabetic = dataframe[dataframe[\"Outcome\"]==\"Non-Diabetic\"]\n",
    "Diabetic.head()"
   ]
  },
  {
   "cell_type": "code",
   "execution_count": 55,
   "id": "8a64fe81",
   "metadata": {},
   "outputs": [
    {
     "data": {
      "text/html": [
       "<div>\n",
       "<style scoped>\n",
       "    .dataframe tbody tr th:only-of-type {\n",
       "        vertical-align: middle;\n",
       "    }\n",
       "\n",
       "    .dataframe tbody tr th {\n",
       "        vertical-align: top;\n",
       "    }\n",
       "\n",
       "    .dataframe thead th {\n",
       "        text-align: right;\n",
       "    }\n",
       "</style>\n",
       "<table border=\"1\" class=\"dataframe\">\n",
       "  <thead>\n",
       "    <tr style=\"text-align: right;\">\n",
       "      <th></th>\n",
       "      <th>Pregnancies</th>\n",
       "      <th>Glucose</th>\n",
       "      <th>BloodPressure</th>\n",
       "      <th>SkinThickness</th>\n",
       "      <th>Insulin</th>\n",
       "      <th>BMI</th>\n",
       "      <th>DiabetesPedigreeFunction</th>\n",
       "      <th>Age</th>\n",
       "    </tr>\n",
       "  </thead>\n",
       "  <tbody>\n",
       "    <tr>\n",
       "      <th>count</th>\n",
       "      <td>268.000000</td>\n",
       "      <td>268.000000</td>\n",
       "      <td>268.000000</td>\n",
       "      <td>268.000000</td>\n",
       "      <td>268.000000</td>\n",
       "      <td>268.000000</td>\n",
       "      <td>268.000000</td>\n",
       "      <td>268.000000</td>\n",
       "    </tr>\n",
       "    <tr>\n",
       "      <th>mean</th>\n",
       "      <td>4.865672</td>\n",
       "      <td>142.159661</td>\n",
       "      <td>74.950326</td>\n",
       "      <td>29.716418</td>\n",
       "      <td>116.041045</td>\n",
       "      <td>35.381343</td>\n",
       "      <td>0.550500</td>\n",
       "      <td>37.067164</td>\n",
       "    </tr>\n",
       "    <tr>\n",
       "      <th>std</th>\n",
       "      <td>3.741239</td>\n",
       "      <td>29.545943</td>\n",
       "      <td>12.016572</td>\n",
       "      <td>9.676886</td>\n",
       "      <td>127.689084</td>\n",
       "      <td>6.596704</td>\n",
       "      <td>0.372354</td>\n",
       "      <td>10.968254</td>\n",
       "    </tr>\n",
       "    <tr>\n",
       "      <th>min</th>\n",
       "      <td>0.000000</td>\n",
       "      <td>78.000000</td>\n",
       "      <td>30.000000</td>\n",
       "      <td>7.000000</td>\n",
       "      <td>14.000000</td>\n",
       "      <td>22.900000</td>\n",
       "      <td>0.088000</td>\n",
       "      <td>21.000000</td>\n",
       "    </tr>\n",
       "    <tr>\n",
       "      <th>25%</th>\n",
       "      <td>1.750000</td>\n",
       "      <td>119.000000</td>\n",
       "      <td>68.000000</td>\n",
       "      <td>23.000000</td>\n",
       "      <td>30.500000</td>\n",
       "      <td>30.900000</td>\n",
       "      <td>0.262500</td>\n",
       "      <td>28.000000</td>\n",
       "    </tr>\n",
       "    <tr>\n",
       "      <th>50%</th>\n",
       "      <td>4.000000</td>\n",
       "      <td>140.000000</td>\n",
       "      <td>74.000000</td>\n",
       "      <td>27.000000</td>\n",
       "      <td>30.500000</td>\n",
       "      <td>34.250000</td>\n",
       "      <td>0.449000</td>\n",
       "      <td>36.000000</td>\n",
       "    </tr>\n",
       "    <tr>\n",
       "      <th>75%</th>\n",
       "      <td>8.000000</td>\n",
       "      <td>167.000000</td>\n",
       "      <td>82.000000</td>\n",
       "      <td>36.000000</td>\n",
       "      <td>167.250000</td>\n",
       "      <td>38.775000</td>\n",
       "      <td>0.728000</td>\n",
       "      <td>44.000000</td>\n",
       "    </tr>\n",
       "    <tr>\n",
       "      <th>max</th>\n",
       "      <td>17.000000</td>\n",
       "      <td>199.000000</td>\n",
       "      <td>114.000000</td>\n",
       "      <td>99.000000</td>\n",
       "      <td>846.000000</td>\n",
       "      <td>67.100000</td>\n",
       "      <td>2.420000</td>\n",
       "      <td>70.000000</td>\n",
       "    </tr>\n",
       "  </tbody>\n",
       "</table>\n",
       "</div>"
      ],
      "text/plain": [
       "       Pregnancies     Glucose  BloodPressure  SkinThickness     Insulin  \\\n",
       "count   268.000000  268.000000     268.000000     268.000000  268.000000   \n",
       "mean      4.865672  142.159661      74.950326      29.716418  116.041045   \n",
       "std       3.741239   29.545943      12.016572       9.676886  127.689084   \n",
       "min       0.000000   78.000000      30.000000       7.000000   14.000000   \n",
       "25%       1.750000  119.000000      68.000000      23.000000   30.500000   \n",
       "50%       4.000000  140.000000      74.000000      27.000000   30.500000   \n",
       "75%       8.000000  167.000000      82.000000      36.000000  167.250000   \n",
       "max      17.000000  199.000000     114.000000      99.000000  846.000000   \n",
       "\n",
       "              BMI  DiabetesPedigreeFunction         Age  \n",
       "count  268.000000                268.000000  268.000000  \n",
       "mean    35.381343                  0.550500   37.067164  \n",
       "std      6.596704                  0.372354   10.968254  \n",
       "min     22.900000                  0.088000   21.000000  \n",
       "25%     30.900000                  0.262500   28.000000  \n",
       "50%     34.250000                  0.449000   36.000000  \n",
       "75%     38.775000                  0.728000   44.000000  \n",
       "max     67.100000                  2.420000   70.000000  "
      ]
     },
     "execution_count": 55,
     "metadata": {},
     "output_type": "execute_result"
    }
   ],
   "source": [
    "Diabetic.describe()"
   ]
  },
  {
   "cell_type": "code",
   "execution_count": 56,
   "id": "f0711940",
   "metadata": {},
   "outputs": [
    {
     "data": {
      "text/html": [
       "<div>\n",
       "<style scoped>\n",
       "    .dataframe tbody tr th:only-of-type {\n",
       "        vertical-align: middle;\n",
       "    }\n",
       "\n",
       "    .dataframe tbody tr th {\n",
       "        vertical-align: top;\n",
       "    }\n",
       "\n",
       "    .dataframe thead th {\n",
       "        text-align: right;\n",
       "    }\n",
       "</style>\n",
       "<table border=\"1\" class=\"dataframe\">\n",
       "  <thead>\n",
       "    <tr style=\"text-align: right;\">\n",
       "      <th></th>\n",
       "      <th>Pregnancies</th>\n",
       "      <th>Glucose</th>\n",
       "      <th>BloodPressure</th>\n",
       "      <th>SkinThickness</th>\n",
       "      <th>Insulin</th>\n",
       "      <th>BMI</th>\n",
       "      <th>DiabetesPedigreeFunction</th>\n",
       "      <th>Age</th>\n",
       "    </tr>\n",
       "  </thead>\n",
       "  <tbody>\n",
       "    <tr>\n",
       "      <th>count</th>\n",
       "      <td>500.000000</td>\n",
       "      <td>500.000000</td>\n",
       "      <td>500.000000</td>\n",
       "      <td>500.000000</td>\n",
       "      <td>500.0000</td>\n",
       "      <td>500.000000</td>\n",
       "      <td>500.000000</td>\n",
       "      <td>500.000000</td>\n",
       "    </tr>\n",
       "    <tr>\n",
       "      <th>mean</th>\n",
       "      <td>3.298000</td>\n",
       "      <td>110.705367</td>\n",
       "      <td>70.810008</td>\n",
       "      <td>26.058000</td>\n",
       "      <td>83.1880</td>\n",
       "      <td>30.880200</td>\n",
       "      <td>0.429734</td>\n",
       "      <td>31.190000</td>\n",
       "    </tr>\n",
       "    <tr>\n",
       "      <th>std</th>\n",
       "      <td>3.017185</td>\n",
       "      <td>24.715021</td>\n",
       "      <td>11.932269</td>\n",
       "      <td>8.725532</td>\n",
       "      <td>89.5657</td>\n",
       "      <td>6.503074</td>\n",
       "      <td>0.299085</td>\n",
       "      <td>11.667655</td>\n",
       "    </tr>\n",
       "    <tr>\n",
       "      <th>min</th>\n",
       "      <td>0.000000</td>\n",
       "      <td>44.000000</td>\n",
       "      <td>24.000000</td>\n",
       "      <td>7.000000</td>\n",
       "      <td>15.0000</td>\n",
       "      <td>18.200000</td>\n",
       "      <td>0.078000</td>\n",
       "      <td>21.000000</td>\n",
       "    </tr>\n",
       "    <tr>\n",
       "      <th>25%</th>\n",
       "      <td>1.000000</td>\n",
       "      <td>93.000000</td>\n",
       "      <td>63.500000</td>\n",
       "      <td>22.000000</td>\n",
       "      <td>30.5000</td>\n",
       "      <td>25.750000</td>\n",
       "      <td>0.229750</td>\n",
       "      <td>23.000000</td>\n",
       "    </tr>\n",
       "    <tr>\n",
       "      <th>50%</th>\n",
       "      <td>2.000000</td>\n",
       "      <td>107.500000</td>\n",
       "      <td>70.000000</td>\n",
       "      <td>23.000000</td>\n",
       "      <td>39.0000</td>\n",
       "      <td>30.400000</td>\n",
       "      <td>0.336000</td>\n",
       "      <td>27.000000</td>\n",
       "    </tr>\n",
       "    <tr>\n",
       "      <th>75%</th>\n",
       "      <td>5.000000</td>\n",
       "      <td>125.000000</td>\n",
       "      <td>78.000000</td>\n",
       "      <td>31.000000</td>\n",
       "      <td>105.0000</td>\n",
       "      <td>35.300000</td>\n",
       "      <td>0.561750</td>\n",
       "      <td>37.000000</td>\n",
       "    </tr>\n",
       "    <tr>\n",
       "      <th>max</th>\n",
       "      <td>13.000000</td>\n",
       "      <td>197.000000</td>\n",
       "      <td>122.000000</td>\n",
       "      <td>60.000000</td>\n",
       "      <td>744.0000</td>\n",
       "      <td>57.300000</td>\n",
       "      <td>2.329000</td>\n",
       "      <td>81.000000</td>\n",
       "    </tr>\n",
       "  </tbody>\n",
       "</table>\n",
       "</div>"
      ],
      "text/plain": [
       "       Pregnancies     Glucose  BloodPressure  SkinThickness   Insulin  \\\n",
       "count   500.000000  500.000000     500.000000     500.000000  500.0000   \n",
       "mean      3.298000  110.705367      70.810008      26.058000   83.1880   \n",
       "std       3.017185   24.715021      11.932269       8.725532   89.5657   \n",
       "min       0.000000   44.000000      24.000000       7.000000   15.0000   \n",
       "25%       1.000000   93.000000      63.500000      22.000000   30.5000   \n",
       "50%       2.000000  107.500000      70.000000      23.000000   39.0000   \n",
       "75%       5.000000  125.000000      78.000000      31.000000  105.0000   \n",
       "max      13.000000  197.000000     122.000000      60.000000  744.0000   \n",
       "\n",
       "              BMI  DiabetesPedigreeFunction         Age  \n",
       "count  500.000000                500.000000  500.000000  \n",
       "mean    30.880200                  0.429734   31.190000  \n",
       "std      6.503074                  0.299085   11.667655  \n",
       "min     18.200000                  0.078000   21.000000  \n",
       "25%     25.750000                  0.229750   23.000000  \n",
       "50%     30.400000                  0.336000   27.000000  \n",
       "75%     35.300000                  0.561750   37.000000  \n",
       "max     57.300000                  2.329000   81.000000  "
      ]
     },
     "execution_count": 56,
     "metadata": {},
     "output_type": "execute_result"
    }
   ],
   "source": [
    "Non_diabetic.describe()"
   ]
  },
  {
   "cell_type": "code",
   "execution_count": 57,
   "id": "05cff86e",
   "metadata": {},
   "outputs": [
    {
     "name": "stdout",
     "output_type": "stream",
     "text": [
      "patient count having normal Blood sugar : 576\n",
      "patient count having prediabetes : 192\n",
      "patient count having abnormal glucose : 0\n"
     ]
    }
   ],
   "source": [
    "x1=len(dataframe[dataframe[\"Glucose\"]<=140])\n",
    "x2=len(dataframe[(dataframe[\"Glucose\"]>140)&(dataframe[\"Glucose\"]<=199)])\n",
    "x3=len(dataframe[dataframe[\"Glucose\"]>=200])\n",
    "print(\"patient count having normal Blood sugar :\",x1)\n",
    "print(\"patient count having prediabetes :\",x2)\n",
    "print(\"patient count having abnormal glucose :\",x3)"
   ]
  },
  {
   "cell_type": "code",
   "execution_count": 58,
   "id": "de0ea3d5",
   "metadata": {},
   "outputs": [
    {
     "data": {
      "text/plain": [
       "array([[<AxesSubplot:title={'center':'Pregnancies'}>,\n",
       "        <AxesSubplot:title={'center':'Glucose'}>,\n",
       "        <AxesSubplot:title={'center':'BloodPressure'}>],\n",
       "       [<AxesSubplot:title={'center':'SkinThickness'}>,\n",
       "        <AxesSubplot:title={'center':'Insulin'}>,\n",
       "        <AxesSubplot:title={'center':'BMI'}>],\n",
       "       [<AxesSubplot:title={'center':'DiabetesPedigreeFunction'}>,\n",
       "        <AxesSubplot:title={'center':'Age'}>, <AxesSubplot:>]],\n",
       "      dtype=object)"
      ]
     },
     "execution_count": 58,
     "metadata": {},
     "output_type": "execute_result"
    },
    {
     "data": {
      "image/png": "[encoded data removed]",
      "text/plain": [
       "<Figure size 1440x1440 with 9 Axes>"
      ]
     },
     "metadata": {
      "needs_background": "light"
     },
     "output_type": "display_data"
    }
   ],
   "source": [
    "dataframe.hist(figsize = (20,20))"
   ]
  },
  {
   "cell_type": "code",
   "execution_count": 59,
   "id": "4f8876a1",
   "metadata": {},
   "outputs": [
    {
     "data": {
      "text/html": [
       "<div>\n",
       "<style scoped>\n",
       "    .dataframe tbody tr th:only-of-type {\n",
       "        vertical-align: middle;\n",
       "    }\n",
       "\n",
       "    .dataframe tbody tr th {\n",
       "        vertical-align: top;\n",
       "    }\n",
       "\n",
       "    .dataframe thead th {\n",
       "        text-align: right;\n",
       "    }\n",
       "</style>\n",
       "<table border=\"1\" class=\"dataframe\">\n",
       "  <thead>\n",
       "    <tr style=\"text-align: right;\">\n",
       "      <th></th>\n",
       "      <th>Pregnancies</th>\n",
       "      <th>Glucose</th>\n",
       "      <th>BloodPressure</th>\n",
       "      <th>SkinThickness</th>\n",
       "      <th>Insulin</th>\n",
       "      <th>BMI</th>\n",
       "      <th>DiabetesPedigreeFunction</th>\n",
       "      <th>Age</th>\n",
       "      <th>Outcome</th>\n",
       "    </tr>\n",
       "  </thead>\n",
       "  <tbody>\n",
       "    <tr>\n",
       "      <th>0</th>\n",
       "      <td>6</td>\n",
       "      <td>148.0</td>\n",
       "      <td>72.0</td>\n",
       "      <td>35</td>\n",
       "      <td>30.5</td>\n",
       "      <td>33.6</td>\n",
       "      <td>0.627</td>\n",
       "      <td>50</td>\n",
       "      <td>1</td>\n",
       "    </tr>\n",
       "    <tr>\n",
       "      <th>1</th>\n",
       "      <td>1</td>\n",
       "      <td>85.0</td>\n",
       "      <td>66.0</td>\n",
       "      <td>29</td>\n",
       "      <td>30.5</td>\n",
       "      <td>26.6</td>\n",
       "      <td>0.351</td>\n",
       "      <td>31</td>\n",
       "      <td>0</td>\n",
       "    </tr>\n",
       "    <tr>\n",
       "      <th>2</th>\n",
       "      <td>8</td>\n",
       "      <td>183.0</td>\n",
       "      <td>64.0</td>\n",
       "      <td>23</td>\n",
       "      <td>30.5</td>\n",
       "      <td>23.3</td>\n",
       "      <td>0.672</td>\n",
       "      <td>32</td>\n",
       "      <td>1</td>\n",
       "    </tr>\n",
       "    <tr>\n",
       "      <th>3</th>\n",
       "      <td>1</td>\n",
       "      <td>89.0</td>\n",
       "      <td>66.0</td>\n",
       "      <td>23</td>\n",
       "      <td>94.0</td>\n",
       "      <td>28.1</td>\n",
       "      <td>0.167</td>\n",
       "      <td>21</td>\n",
       "      <td>0</td>\n",
       "    </tr>\n",
       "    <tr>\n",
       "      <th>4</th>\n",
       "      <td>0</td>\n",
       "      <td>137.0</td>\n",
       "      <td>40.0</td>\n",
       "      <td>35</td>\n",
       "      <td>168.0</td>\n",
       "      <td>43.1</td>\n",
       "      <td>2.288</td>\n",
       "      <td>33</td>\n",
       "      <td>1</td>\n",
       "    </tr>\n",
       "  </tbody>\n",
       "</table>\n",
       "</div>"
      ],
      "text/plain": [
       "   Pregnancies  Glucose  BloodPressure  SkinThickness  Insulin   BMI  \\\n",
       "0            6    148.0           72.0             35     30.5  33.6   \n",
       "1            1     85.0           66.0             29     30.5  26.6   \n",
       "2            8    183.0           64.0             23     30.5  23.3   \n",
       "3            1     89.0           66.0             23     94.0  28.1   \n",
       "4            0    137.0           40.0             35    168.0  43.1   \n",
       "\n",
       "   DiabetesPedigreeFunction  Age  Outcome  \n",
       "0                     0.627   50        1  \n",
       "1                     0.351   31        0  \n",
       "2                     0.672   32        1  \n",
       "3                     0.167   21        0  \n",
       "4                     2.288   33        1  "
      ]
     },
     "execution_count": 59,
     "metadata": {},
     "output_type": "execute_result"
    }
   ],
   "source": [
    "dataframe = dataframe.replace({'Outcome': {'Non-Diabetic': 0, 'Diabetic': 1}})\n",
    "dataframe.head()"
   ]
  },
  {
   "cell_type": "code",
   "execution_count": 60,
   "id": "a222da09",
   "metadata": {},
   "outputs": [
    {
     "name": "stderr",
     "output_type": "stream",
     "text": [
      "C:\\ProgramData\\Anaconda3\\lib\\site-packages\\sklearn\\preprocessing\\_data.py:2612: UserWarning: n_quantiles (1000) is greater than the total number of samples (768). n_quantiles is set to n_samples.\n",
      "  warnings.warn(\"n_quantiles (%s) is greater than the total number \"\n"
     ]
    },
    {
     "data": {
      "text/html": [
       "<div>\n",
       "<style scoped>\n",
       "    .dataframe tbody tr th:only-of-type {\n",
       "        vertical-align: middle;\n",
       "    }\n",
       "\n",
       "    .dataframe tbody tr th {\n",
       "        vertical-align: top;\n",
       "    }\n",
       "\n",
       "    .dataframe thead th {\n",
       "        text-align: right;\n",
       "    }\n",
       "</style>\n",
       "<table border=\"1\" class=\"dataframe\">\n",
       "  <thead>\n",
       "    <tr style=\"text-align: right;\">\n",
       "      <th></th>\n",
       "      <th>Pregnancies</th>\n",
       "      <th>Glucose</th>\n",
       "      <th>BloodPressure</th>\n",
       "      <th>SkinThickness</th>\n",
       "      <th>Insulin</th>\n",
       "      <th>BMI</th>\n",
       "      <th>DiabetesPedigreeFunction</th>\n",
       "      <th>Age</th>\n",
       "      <th>Outcome</th>\n",
       "    </tr>\n",
       "  </thead>\n",
       "  <tbody>\n",
       "    <tr>\n",
       "      <th>0</th>\n",
       "      <td>0.747718</td>\n",
       "      <td>0.810300</td>\n",
       "      <td>0.516949</td>\n",
       "      <td>0.801825</td>\n",
       "      <td>0.256193</td>\n",
       "      <td>0.591265</td>\n",
       "      <td>0.750978</td>\n",
       "      <td>0.889831</td>\n",
       "      <td>1.0</td>\n",
       "    </tr>\n",
       "    <tr>\n",
       "      <th>1</th>\n",
       "      <td>0.232725</td>\n",
       "      <td>0.091265</td>\n",
       "      <td>0.290091</td>\n",
       "      <td>0.644720</td>\n",
       "      <td>0.256193</td>\n",
       "      <td>0.213168</td>\n",
       "      <td>0.475880</td>\n",
       "      <td>0.558670</td>\n",
       "      <td>0.0</td>\n",
       "    </tr>\n",
       "    <tr>\n",
       "      <th>2</th>\n",
       "      <td>0.863755</td>\n",
       "      <td>0.956975</td>\n",
       "      <td>0.233377</td>\n",
       "      <td>0.357888</td>\n",
       "      <td>0.256193</td>\n",
       "      <td>0.077575</td>\n",
       "      <td>0.782269</td>\n",
       "      <td>0.585398</td>\n",
       "      <td>1.0</td>\n",
       "    </tr>\n",
       "    <tr>\n",
       "      <th>3</th>\n",
       "      <td>0.232725</td>\n",
       "      <td>0.124511</td>\n",
       "      <td>0.290091</td>\n",
       "      <td>0.357888</td>\n",
       "      <td>0.662973</td>\n",
       "      <td>0.284224</td>\n",
       "      <td>0.106258</td>\n",
       "      <td>0.000000</td>\n",
       "      <td>0.0</td>\n",
       "    </tr>\n",
       "    <tr>\n",
       "      <th>4</th>\n",
       "      <td>0.000000</td>\n",
       "      <td>0.721643</td>\n",
       "      <td>0.005215</td>\n",
       "      <td>0.801825</td>\n",
       "      <td>0.834420</td>\n",
       "      <td>0.926988</td>\n",
       "      <td>0.997392</td>\n",
       "      <td>0.606258</td>\n",
       "      <td>1.0</td>\n",
       "    </tr>\n",
       "  </tbody>\n",
       "</table>\n",
       "</div>"
      ],
      "text/plain": [
       "   Pregnancies   Glucose  BloodPressure  SkinThickness   Insulin       BMI  \\\n",
       "0     0.747718  0.810300       0.516949       0.801825  0.256193  0.591265   \n",
       "1     0.232725  0.091265       0.290091       0.644720  0.256193  0.213168   \n",
       "2     0.863755  0.956975       0.233377       0.357888  0.256193  0.077575   \n",
       "3     0.232725  0.124511       0.290091       0.357888  0.662973  0.284224   \n",
       "4     0.000000  0.721643       0.005215       0.801825  0.834420  0.926988   \n",
       "\n",
       "   DiabetesPedigreeFunction       Age  Outcome  \n",
       "0                  0.750978  0.889831      1.0  \n",
       "1                  0.475880  0.558670      0.0  \n",
       "2                  0.782269  0.585398      1.0  \n",
       "3                  0.106258  0.000000      0.0  \n",
       "4                  0.997392  0.606258      1.0  "
      ]
     },
     "execution_count": 60,
     "metadata": {},
     "output_type": "execute_result"
    }
   ],
   "source": [
    "# Feature Selection\n",
    "df_selected=dataframe.copy(deep=True)\n",
    "\n",
    "# Handling Outliers\n",
    "\n",
    "# Quantile Transformer \n",
    "from sklearn.preprocessing import QuantileTransformer\n",
    "x=df_selected\n",
    "quantile  = QuantileTransformer()\n",
    "X = quantile.fit_transform(x)\n",
    "df_new=quantile.transform(X)\n",
    "df_new=pd.DataFrame(X)\n",
    "df_new.columns =['Pregnancies', 'Glucose', 'BloodPressure', 'SkinThickness', 'Insulin', 'BMI', 'DiabetesPedigreeFunction','Age', 'Outcome']\n",
    "df_new.head()\n",
    "\n"
   ]
  },
  {
   "cell_type": "code",
   "execution_count": 61,
   "id": "f511c041",
   "metadata": {},
   "outputs": [
    {
     "data": {
      "text/html": [
       "<div>\n",
       "<style scoped>\n",
       "    .dataframe tbody tr th:only-of-type {\n",
       "        vertical-align: middle;\n",
       "    }\n",
       "\n",
       "    .dataframe tbody tr th {\n",
       "        vertical-align: top;\n",
       "    }\n",
       "\n",
       "    .dataframe thead th {\n",
       "        text-align: right;\n",
       "    }\n",
       "</style>\n",
       "<table border=\"1\" class=\"dataframe\">\n",
       "  <thead>\n",
       "    <tr style=\"text-align: right;\">\n",
       "      <th></th>\n",
       "      <th>Pregnancies</th>\n",
       "      <th>Glucose</th>\n",
       "      <th>BloodPressure</th>\n",
       "      <th>SkinThickness</th>\n",
       "      <th>Insulin</th>\n",
       "      <th>BMI</th>\n",
       "      <th>DiabetesPedigreeFunction</th>\n",
       "      <th>Age</th>\n",
       "    </tr>\n",
       "  </thead>\n",
       "  <tbody>\n",
       "    <tr>\n",
       "      <th>0</th>\n",
       "      <td>0.747718</td>\n",
       "      <td>0.810300</td>\n",
       "      <td>0.516949</td>\n",
       "      <td>0.801825</td>\n",
       "      <td>0.256193</td>\n",
       "      <td>0.591265</td>\n",
       "      <td>0.750978</td>\n",
       "      <td>0.889831</td>\n",
       "    </tr>\n",
       "    <tr>\n",
       "      <th>1</th>\n",
       "      <td>0.232725</td>\n",
       "      <td>0.091265</td>\n",
       "      <td>0.290091</td>\n",
       "      <td>0.644720</td>\n",
       "      <td>0.256193</td>\n",
       "      <td>0.213168</td>\n",
       "      <td>0.475880</td>\n",
       "      <td>0.558670</td>\n",
       "    </tr>\n",
       "    <tr>\n",
       "      <th>2</th>\n",
       "      <td>0.863755</td>\n",
       "      <td>0.956975</td>\n",
       "      <td>0.233377</td>\n",
       "      <td>0.357888</td>\n",
       "      <td>0.256193</td>\n",
       "      <td>0.077575</td>\n",
       "      <td>0.782269</td>\n",
       "      <td>0.585398</td>\n",
       "    </tr>\n",
       "    <tr>\n",
       "      <th>3</th>\n",
       "      <td>0.232725</td>\n",
       "      <td>0.124511</td>\n",
       "      <td>0.290091</td>\n",
       "      <td>0.357888</td>\n",
       "      <td>0.662973</td>\n",
       "      <td>0.284224</td>\n",
       "      <td>0.106258</td>\n",
       "      <td>0.000000</td>\n",
       "    </tr>\n",
       "    <tr>\n",
       "      <th>4</th>\n",
       "      <td>0.000000</td>\n",
       "      <td>0.721643</td>\n",
       "      <td>0.005215</td>\n",
       "      <td>0.801825</td>\n",
       "      <td>0.834420</td>\n",
       "      <td>0.926988</td>\n",
       "      <td>0.997392</td>\n",
       "      <td>0.606258</td>\n",
       "    </tr>\n",
       "  </tbody>\n",
       "</table>\n",
       "</div>"
      ],
      "text/plain": [
       "   Pregnancies   Glucose  BloodPressure  SkinThickness   Insulin       BMI  \\\n",
       "0     0.747718  0.810300       0.516949       0.801825  0.256193  0.591265   \n",
       "1     0.232725  0.091265       0.290091       0.644720  0.256193  0.213168   \n",
       "2     0.863755  0.956975       0.233377       0.357888  0.256193  0.077575   \n",
       "3     0.232725  0.124511       0.290091       0.357888  0.662973  0.284224   \n",
       "4     0.000000  0.721643       0.005215       0.801825  0.834420  0.926988   \n",
       "\n",
       "   DiabetesPedigreeFunction       Age  \n",
       "0                  0.750978  0.889831  \n",
       "1                  0.475880  0.558670  \n",
       "2                  0.782269  0.585398  \n",
       "3                  0.106258  0.000000  \n",
       "4                  0.997392  0.606258  "
      ]
     },
     "execution_count": 61,
     "metadata": {},
     "output_type": "execute_result"
    }
   ],
   "source": [
    "X = df_new.drop(columns='Outcome', axis=1)\n",
    "Y = df_new['Outcome']\n",
    "X.head() # independent features"
   ]
  },
  {
   "cell_type": "code",
   "execution_count": 62,
   "id": "08a9e826",
   "metadata": {},
   "outputs": [
    {
     "data": {
      "text/plain": [
       "763    0.0\n",
       "764    0.0\n",
       "765    0.0\n",
       "766    1.0\n",
       "767    0.0\n",
       "Name: Outcome, dtype: float64"
      ]
     },
     "execution_count": 62,
     "metadata": {},
     "output_type": "execute_result"
    }
   ],
   "source": [
    "Y.tail()"
   ]
  },
  {
   "cell_type": "markdown",
   "id": "06a2e3ff",
   "metadata": {},
   "source": [
    "# Train and Split"
   ]
  },
  {
   "cell_type": "code",
   "execution_count": 63,
   "id": "23781613",
   "metadata": {},
   "outputs": [
    {
     "data": {
      "text/plain": [
       "((537, 8), (537,))"
      ]
     },
     "execution_count": 63,
     "metadata": {},
     "output_type": "execute_result"
    }
   ],
   "source": [
    "from sklearn.model_selection import train_test_split\n",
    " # Splittingin the ratio of 60% for train, 40% for test.\n",
    "X_train, X_test, y_train, y_test= train_test_split(X,Y,test_size=0.3,random_state=12) \n",
    "X_train.shape, y_train.shape"
   ]
  },
  {
   "cell_type": "code",
   "execution_count": 64,
   "id": "c74e5517",
   "metadata": {},
   "outputs": [
    {
     "data": {
      "text/plain": [
       "((231, 8), (231,))"
      ]
     },
     "execution_count": 64,
     "metadata": {},
     "output_type": "execute_result"
    }
   ],
   "source": [
    "X_test.shape, y_test.shape"
   ]
  },
  {
   "cell_type": "markdown",
   "id": "fd97f72e",
   "metadata": {},
   "source": [
    "# Logistic Regression"
   ]
  },
  {
   "cell_type": "code",
   "execution_count": 65,
   "id": "72a04f0c",
   "metadata": {},
   "outputs": [
    {
     "name": "stdout",
     "output_type": "stream",
     "text": [
      "Training Accuracy    : 75.98 %\n",
      "Model Accuracy Score : 77.92 %\n",
      "\u001b[1m--------------------------------------------------------\u001b[0m\n",
      "Classification_Report: \n",
      "               precision    recall  f1-score   support\n",
      "\n",
      "         0.0       0.80      0.86      0.83       147\n",
      "         1.0       0.73      0.63      0.68        84\n",
      "\n",
      "    accuracy                           0.78       231\n",
      "   macro avg       0.76      0.75      0.75       231\n",
      "weighted avg       0.78      0.78      0.78       231\n",
      "\n",
      "\u001b[1m--------------------------------------------------------\u001b[0m\n"
     ]
    }
   ],
   "source": [
    "from sklearn.metrics import accuracy_score,classification_report,confusion_matrix\n",
    "from sklearn.linear_model import LogisticRegression\n",
    "logic = LogisticRegression()\n",
    "logic.fit(X_train, y_train)\n",
    "y_pred_lr = logic.predict(X_test)\n",
    "\n",
    "log_train = round(logic.score(X_train, y_train) * 100, 2)\n",
    "log_accuracy = round(accuracy_score(y_pred_lr, y_test) * 100, 2)\n",
    "\n",
    "print(\"Training Accuracy    :\",log_train ,\"%\")\n",
    "print(\"Model Accuracy Score :\",log_accuracy ,\"%\")\n",
    "print(\"\\033[1m--------------------------------------------------------\\033[0m\")\n",
    "print(\"Classification_Report: \\n\",classification_report(y_test,y_pred_lr))\n",
    "print(\"\\033[1m--------------------------------------------------------\\033[0m\")"
   ]
  },
  {
   "cell_type": "markdown",
   "id": "a05977c3",
   "metadata": {},
   "source": [
    "# Support Vector Machine"
   ]
  },
  {
   "cell_type": "code",
   "execution_count": 66,
   "id": "4b3b0ef3",
   "metadata": {},
   "outputs": [
    {
     "name": "stdout",
     "output_type": "stream",
     "text": [
      "Training Accuracy    : 81.56 %\n",
      "Model Accuracy Score : 77.06 %\n",
      "\u001b[1m--------------------------------------------------------\u001b[0m\n",
      "Classification_Report: \n",
      "               precision    recall  f1-score   support\n",
      "\n",
      "         0.0       0.80      0.86      0.83       147\n",
      "         1.0       0.71      0.62      0.66        84\n",
      "\n",
      "    accuracy                           0.77       231\n",
      "   macro avg       0.75      0.74      0.74       231\n",
      "weighted avg       0.77      0.77      0.77       231\n",
      "\n",
      "\u001b[1m--------------------------------------------------------\u001b[0m\n"
     ]
    }
   ],
   "source": [
    "from sklearn.svm import SVC\n",
    "svc = SVC()\n",
    "svc.fit(X_train, y_train)\n",
    "y_pred_svc = svc.predict(X_test)\n",
    "\n",
    "svc_train = round(svc.score(X_train, y_train) * 100, 2)\n",
    "svc_accuracy = round(accuracy_score(y_pred_svc, y_test) * 100, 2)\n",
    "\n",
    "print(\"Training Accuracy    :\",svc_train ,\"%\")\n",
    "print(\"Model Accuracy Score :\",svc_accuracy ,\"%\")\n",
    "print(\"\\033[1m--------------------------------------------------------\\033[0m\")\n",
    "print(\"Classification_Report: \\n\",classification_report(y_test,y_pred_svc))\n",
    "print(\"\\033[1m--------------------------------------------------------\\033[0m\")"
   ]
  },
  {
   "cell_type": "markdown",
   "id": "1a0d7196",
   "metadata": {},
   "source": [
    "# Decision Tree classifier"
   ]
  },
  {
   "cell_type": "code",
   "execution_count": 67,
   "id": "b2df206a",
   "metadata": {},
   "outputs": [
    {
     "name": "stdout",
     "output_type": "stream",
     "text": [
      "Training Accuracy    : 100.0 %\n",
      "Model Accuracy Score : 68.83 %\n",
      "\u001b[1m--------------------------------------------------------\u001b[0m\n",
      "Classification_Report: \n",
      "               precision    recall  f1-score   support\n",
      "\n",
      "         0.0       0.77      0.73      0.75       147\n",
      "         1.0       0.57      0.61      0.59        84\n",
      "\n",
      "    accuracy                           0.69       231\n",
      "   macro avg       0.67      0.67      0.67       231\n",
      "weighted avg       0.69      0.69      0.69       231\n",
      "\n",
      "\u001b[1m--------------------------------------------------------\u001b[0m\n"
     ]
    }
   ],
   "source": [
    "from sklearn.tree import DecisionTreeClassifier\n",
    "decision = DecisionTreeClassifier()\n",
    "decision.fit(X_train, y_train)\n",
    "y_pred_dec = decision.predict(X_test)\n",
    "\n",
    "decision_train = round(decision.score(X_train, y_train) * 100, 2)\n",
    "decision_accuracy = round(accuracy_score(y_pred_dec, y_test) * 100, 2)\n",
    "\n",
    "print(\"Training Accuracy    :\",decision_train ,\"%\")\n",
    "print(\"Model Accuracy Score :\",decision_accuracy ,\"%\")\n",
    "print(\"\\033[1m--------------------------------------------------------\\033[0m\")\n",
    "print(\"Classification_Report: \\n\",classification_report(y_test,y_pred_dec))\n",
    "print(\"\\033[1m--------------------------------------------------------\\033[0m\")"
   ]
  },
  {
   "cell_type": "markdown",
   "id": "852dc11d",
   "metadata": {},
   "source": [
    "# K-Nearest Neighbour"
   ]
  },
  {
   "cell_type": "code",
   "execution_count": 68,
   "id": "3ee81162",
   "metadata": {},
   "outputs": [
    {
     "name": "stdout",
     "output_type": "stream",
     "text": [
      "Training Accuracy    : 85.85 %\n",
      "Model Accuracy Score : 73.16 %\n",
      "\u001b[1m--------------------------------------------------------\u001b[0m\n",
      "Classification_Report: \n",
      "               precision    recall  f1-score   support\n",
      "\n",
      "         0.0       0.77      0.83      0.80       147\n",
      "         1.0       0.65      0.56      0.60        84\n",
      "\n",
      "    accuracy                           0.73       231\n",
      "   macro avg       0.71      0.69      0.70       231\n",
      "weighted avg       0.73      0.73      0.73       231\n",
      "\n",
      "\u001b[1m--------------------------------------------------------\u001b[0m\n"
     ]
    }
   ],
   "source": [
    "from sklearn.neighbors import KNeighborsClassifier\n",
    "knn = KNeighborsClassifier(n_neighbors = 3)\n",
    "knn.fit(X_train, y_train)\n",
    "y_pred_knn = knn.predict(X_test)\n",
    "\n",
    "knn_train = round(knn.score(X_train, y_train) * 100, 2)\n",
    "knn_accuracy = round(accuracy_score(y_pred_knn, y_test) * 100, 2)\n",
    "\n",
    "print(\"Training Accuracy    :\",knn_train ,\"%\")\n",
    "print(\"Model Accuracy Score :\",knn_accuracy ,\"%\")\n",
    "print(\"\\033[1m--------------------------------------------------------\\033[0m\")\n",
    "print(\"Classification_Report: \\n\",classification_report(y_test,y_pred_knn))\n",
    "print(\"\\033[1m--------------------------------------------------------\\033[0m\")"
   ]
  },
  {
   "cell_type": "markdown",
   "id": "1e11da39",
   "metadata": {},
   "source": [
    "# comparing different model"
   ]
  },
  {
   "cell_type": "code",
   "execution_count": 69,
   "id": "1fd95e93",
   "metadata": {},
   "outputs": [
    {
     "data": {
      "text/html": [
       "<style type=\"text/css\">\n",
       "#T_5c691_row0_col0, #T_5c691_row1_col0, #T_5c691_row2_col0, #T_5c691_row3_col0 {\n",
       "  font-family: Lucida Calligraphy;\n",
       "  color: LigntGreen;\n",
       "  font-size: 15px;\n",
       "}\n",
       "#T_5c691_row0_col1, #T_5c691_row3_col2 {\n",
       "  background-color: #3b4cc0;\n",
       "  color: #f1f1f1;\n",
       "  font-family: Lucida Calligraphy;\n",
       "  color: LigntGreen;\n",
       "  font-size: 15px;\n",
       "}\n",
       "#T_5c691_row0_col2, #T_5c691_row3_col1 {\n",
       "  background-color: #b40426;\n",
       "  color: #f1f1f1;\n",
       "  font-family: Lucida Calligraphy;\n",
       "  color: LigntGreen;\n",
       "  font-size: 15px;\n",
       "}\n",
       "#T_5c691_row1_col1 {\n",
       "  background-color: #86a9fc;\n",
       "  color: #f1f1f1;\n",
       "  font-family: Lucida Calligraphy;\n",
       "  color: LigntGreen;\n",
       "  font-size: 15px;\n",
       "}\n",
       "#T_5c691_row1_col2 {\n",
       "  background-color: #d55042;\n",
       "  color: #f1f1f1;\n",
       "  font-family: Lucida Calligraphy;\n",
       "  color: LigntGreen;\n",
       "  font-size: 15px;\n",
       "}\n",
       "#T_5c691_row2_col1 {\n",
       "  background-color: #c4d5f3;\n",
       "  color: #000000;\n",
       "  font-family: Lucida Calligraphy;\n",
       "  color: LigntGreen;\n",
       "  font-size: 15px;\n",
       "}\n",
       "#T_5c691_row2_col2 {\n",
       "  background-color: #d6dce4;\n",
       "  color: #000000;\n",
       "  font-family: Lucida Calligraphy;\n",
       "  color: LigntGreen;\n",
       "  font-size: 15px;\n",
       "}\n",
       "</style>\n",
       "<table id=\"T_5c691_\">\n",
       "  <thead>\n",
       "    <tr>\n",
       "      <th class=\"col_heading level0 col0\" >Model</th>\n",
       "      <th class=\"col_heading level0 col1\" >Training Accuracy</th>\n",
       "      <th class=\"col_heading level0 col2\" >Model Accuracy</th>\n",
       "    </tr>\n",
       "  </thead>\n",
       "  <tbody>\n",
       "    <tr>\n",
       "      <td id=\"T_5c691_row0_col0\" class=\"data row0 col0\" >Logistic Regression</td>\n",
       "      <td id=\"T_5c691_row0_col1\" class=\"data row0 col1\" >75.980000</td>\n",
       "      <td id=\"T_5c691_row0_col2\" class=\"data row0 col2\" >77.920000</td>\n",
       "    </tr>\n",
       "    <tr>\n",
       "      <td id=\"T_5c691_row1_col0\" class=\"data row1 col0\" >Support Vector Machines</td>\n",
       "      <td id=\"T_5c691_row1_col1\" class=\"data row1 col1\" >81.560000</td>\n",
       "      <td id=\"T_5c691_row1_col2\" class=\"data row1 col2\" >77.060000</td>\n",
       "    </tr>\n",
       "    <tr>\n",
       "      <td id=\"T_5c691_row2_col0\" class=\"data row2 col0\" >KNN</td>\n",
       "      <td id=\"T_5c691_row2_col1\" class=\"data row2 col1\" >85.850000</td>\n",
       "      <td id=\"T_5c691_row2_col2\" class=\"data row2 col2\" >73.160000</td>\n",
       "    </tr>\n",
       "    <tr>\n",
       "      <td id=\"T_5c691_row3_col0\" class=\"data row3 col0\" >Decission Tree</td>\n",
       "      <td id=\"T_5c691_row3_col1\" class=\"data row3 col1\" >100.000000</td>\n",
       "      <td id=\"T_5c691_row3_col2\" class=\"data row3 col2\" >68.830000</td>\n",
       "    </tr>\n",
       "  </tbody>\n",
       "</table>\n"
      ],
      "text/plain": [
       "<pandas.io.formats.style.Styler at 0x1bc3f4a7520>"
      ]
     },
     "execution_count": 69,
     "metadata": {},
     "output_type": "execute_result"
    }
   ],
   "source": [
    "# Create a variable \n",
    "models = pd.DataFrame({'Model': ['Support Vector Machines', 'KNN', 'Logistic Regression','Decission Tree'],\n",
    "                       'Training Accuracy':[svc_train,knn_train,log_train,decision_train],\n",
    "                       'Model Accuracy':[svc_accuracy,knn_accuracy,log_accuracy,decision_accuracy]})\n",
    "\n",
    "models.sort_values(by='Model Accuracy', ascending=False).style.background_gradient(\n",
    "        cmap='coolwarm').hide_index().set_properties(**{\n",
    "            'font-family': 'Lucida Calligraphy',\n",
    "            'color': 'LigntGreen',\n",
    "            'font-size': '15px'\n",
    "        })\n",
    "\n"
   ]
  },
  {
   "cell_type": "code",
   "execution_count": 71,
   "id": "fa259496",
   "metadata": {},
   "outputs": [
    {
     "data": {
      "image/png": "[encoded data removed]",
      "text/plain": [
       "<Figure size 576x288 with 1 Axes>"
      ]
     },
     "metadata": {},
     "output_type": "display_data"
    }
   ],
   "source": [
    "colors = [\"purple\", \"green\", \"orange\", \"magenta\",\"blue\",\"black\"]\n",
    "sns.set_style(\"whitegrid\")\n",
    "plt.figure(figsize=(8,4))\n",
    "plt.ylabel(\"Accuracy %\")\n",
    "plt.xlabel(\"Algorithms\")\n",
    "sns.barplot(x=models['Model'],y=models['Model Accuracy'], palette=colors )\n",
    "plt.show()"
   ]
  },
  {
   "cell_type": "markdown",
   "id": "49bee0e2",
   "metadata": {},
   "source": [
    "# Final Prediction"
   ]
  },
  {
   "cell_type": "code",
   "execution_count": 14,
   "id": "e85a4521",
   "metadata": {},
   "outputs": [
    {
     "name": "stdout",
     "output_type": "stream",
     "text": [
      "[[  2.     95.     90.     40.    150.     24.      0.727  20.   ]]\n"
     ]
    }
   ],
   "source": [
    "# Make predictions on unseen data, here i have given random values for each features in the input_data\n",
    "# take the data  and store in the variable \n",
    "input_data = (2,95,90,40,150,24,0.727000,20)\n",
    "\n",
    "# changing the input_data to numpy array\n",
    "input_data_as_numpy_array = np.asarray(input_data) # converting this list into numpy array\n",
    "\n",
    "# reshape the numpy array as we are predicting for one instance\n",
    "\n",
    "input_data_reshaped= input_data_as_numpy_array.reshape(1,-1)\n",
    "print(input_data_reshaped)"
   ]
  },
  {
   "cell_type": "code",
   "execution_count": 15,
   "id": "e771c403",
   "metadata": {},
   "outputs": [
    {
     "ename": "NameError",
     "evalue": "name 'logic' is not defined",
     "output_type": "error",
     "traceback": [
      "\u001b[1;31m---------------------------------------------------------------------------\u001b[0m",
      "\u001b[1;31mNameError\u001b[0m                                 Traceback (most recent call last)",
      "\u001b[1;32m~\\AppData\\Local\\Temp/ipykernel_57644/376991221.py\u001b[0m in \u001b[0;36m<module>\u001b[1;34m\u001b[0m\n\u001b[0;32m      1\u001b[0m \u001b[1;31m# predict\u001b[0m\u001b[1;33m\u001b[0m\u001b[1;33m\u001b[0m\u001b[0m\n\u001b[1;32m----> 2\u001b[1;33m \u001b[0mpredictions\u001b[0m \u001b[1;33m=\u001b[0m \u001b[0mlogic\u001b[0m\u001b[1;33m.\u001b[0m\u001b[0mpredict\u001b[0m\u001b[1;33m(\u001b[0m\u001b[0minput_data_reshaped\u001b[0m\u001b[1;33m)\u001b[0m\u001b[1;33m\u001b[0m\u001b[1;33m\u001b[0m\u001b[0m\n\u001b[0m\u001b[0;32m      3\u001b[0m \u001b[0mprint\u001b[0m\u001b[1;33m(\u001b[0m\u001b[0mpredictions\u001b[0m\u001b[1;33m)\u001b[0m\u001b[1;33m\u001b[0m\u001b[1;33m\u001b[0m\u001b[0m\n\u001b[0;32m      4\u001b[0m \u001b[1;32mif\u001b[0m \u001b[0mpredictions\u001b[0m\u001b[1;33m[\u001b[0m\u001b[1;36m0\u001b[0m\u001b[1;33m]\u001b[0m \u001b[1;33m==\u001b[0m \u001b[1;36m1\u001b[0m\u001b[1;33m:\u001b[0m\u001b[1;33m\u001b[0m\u001b[1;33m\u001b[0m\u001b[0m\n\u001b[0;32m      5\u001b[0m     \u001b[0mprint\u001b[0m\u001b[1;33m(\u001b[0m\u001b[1;34m\"The patient is predicted to have diabetes.\"\u001b[0m\u001b[1;33m)\u001b[0m\u001b[1;33m\u001b[0m\u001b[1;33m\u001b[0m\u001b[0m\n",
      "\u001b[1;31mNameError\u001b[0m: name 'logic' is not defined"
     ]
    }
   ],
   "source": [
    "# predict\n",
    "predictions = logic.predict(input_data_reshaped)\n",
    "print(predictions)\n",
    "if predictions[0] == 1:\n",
    "    print(\"The patient is predicted to have diabetes.\")\n",
    "else:\n",
    "    print(\"The patient is predicted to not have diabetes.\")"
   ]
  },
  {
   "cell_type": "code",
   "execution_count": null,
   "id": "a2821f80",
   "metadata": {},
   "outputs": [],
   "source": []
  }
 ],
 "metadata": {
  "kernelspec": {
   "display_name": "Python 3 (ipykernel)",
   "language": "python",
   "name": "python3"
  },
  "language_info": {
   "codemirror_mode": {
    "name": "ipython",
    "version": 3
   },
   "file_extension": ".py",
   "mimetype": "text/x-python",
   "name": "python",
   "nbconvert_exporter": "python",
   "pygments_lexer": "ipython3",
   "version": "3.9.7"
  }
 },
 "nbformat": 4,
 "nbformat_minor": 5
}
